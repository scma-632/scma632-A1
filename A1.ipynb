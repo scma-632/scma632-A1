{
 "cells": [
  {
   "cell_type": "code",
   "execution_count": 2,
   "id": "0532a361",
   "metadata": {
    "ExecuteTime": {
     "end_time": "2024-06-16T10:15:49.396620Z",
     "start_time": "2024-06-16T10:15:47.995969Z"
    }
   },
   "outputs": [],
   "source": [
    "import os, pandas as pd, numpy as np"
   ]
  },
  {
   "cell_type": "code",
   "execution_count": 3,
   "id": "fd3e9cd0",
   "metadata": {
    "ExecuteTime": {
     "end_time": "2024-06-16T10:15:50.841477Z",
     "start_time": "2024-06-16T10:15:50.836891Z"
    }
   },
   "outputs": [],
   "source": [
    "os.chdir(\"E:\\\\Assignments_SCMA632\\\\Data\")"
   ]
  },
  {
   "cell_type": "code",
   "execution_count": 4,
   "id": "2c7b48a8",
   "metadata": {
    "ExecuteTime": {
     "end_time": "2024-06-16T10:16:04.084743Z",
     "start_time": "2024-06-16T10:15:52.236332Z"
    }
   },
   "outputs": [],
   "source": [
    "df=pd.read_csv(\"NSSO68.csv\",encoding=\"Latin-1\", low_memory=False)"
   ]
  },
  {
   "cell_type": "code",
   "execution_count": 5,
   "id": "550bbf03",
   "metadata": {
    "ExecuteTime": {
     "end_time": "2024-06-16T10:16:05.280199Z",
     "start_time": "2024-06-16T10:16:05.210652Z"
    }
   },
   "outputs": [
    {
     "data": {
      "text/html": [
       "<div>\n",
       "<style scoped>\n",
       "    .dataframe tbody tr th:only-of-type {\n",
       "        vertical-align: middle;\n",
       "    }\n",
       "\n",
       "    .dataframe tbody tr th {\n",
       "        vertical-align: top;\n",
       "    }\n",
       "\n",
       "    .dataframe thead th {\n",
       "        text-align: right;\n",
       "    }\n",
       "</style>\n",
       "<table border=\"1\" class=\"dataframe\">\n",
       "  <thead>\n",
       "    <tr style=\"text-align: right;\">\n",
       "      <th></th>\n",
       "      <th>slno</th>\n",
       "      <th>grp</th>\n",
       "      <th>Round_Centre</th>\n",
       "      <th>FSU_number</th>\n",
       "      <th>Round</th>\n",
       "      <th>Schedule_Number</th>\n",
       "      <th>Sample</th>\n",
       "      <th>Sector</th>\n",
       "      <th>state</th>\n",
       "      <th>State_Region</th>\n",
       "      <th>...</th>\n",
       "      <th>pickle_v</th>\n",
       "      <th>sauce_jam_v</th>\n",
       "      <th>Othrprocessed_v</th>\n",
       "      <th>Beveragestotal_v</th>\n",
       "      <th>foodtotal_v</th>\n",
       "      <th>foodtotal_q</th>\n",
       "      <th>state_1</th>\n",
       "      <th>Region</th>\n",
       "      <th>fruits_df_tt_v</th>\n",
       "      <th>fv_tot</th>\n",
       "    </tr>\n",
       "  </thead>\n",
       "  <tbody>\n",
       "    <tr>\n",
       "      <th>0</th>\n",
       "      <td>1</td>\n",
       "      <td>4.10E+31</td>\n",
       "      <td>1</td>\n",
       "      <td>41000</td>\n",
       "      <td>68</td>\n",
       "      <td>10</td>\n",
       "      <td>1</td>\n",
       "      <td>2</td>\n",
       "      <td>24</td>\n",
       "      <td>242</td>\n",
       "      <td>...</td>\n",
       "      <td>0.0</td>\n",
       "      <td>0.0</td>\n",
       "      <td>0.0</td>\n",
       "      <td>0.000000</td>\n",
       "      <td>1141.492400</td>\n",
       "      <td>30.942394</td>\n",
       "      <td>GUJ</td>\n",
       "      <td>2</td>\n",
       "      <td>12.000000</td>\n",
       "      <td>154.18</td>\n",
       "    </tr>\n",
       "    <tr>\n",
       "      <th>1</th>\n",
       "      <td>2</td>\n",
       "      <td>4.10E+31</td>\n",
       "      <td>1</td>\n",
       "      <td>41000</td>\n",
       "      <td>68</td>\n",
       "      <td>10</td>\n",
       "      <td>1</td>\n",
       "      <td>2</td>\n",
       "      <td>24</td>\n",
       "      <td>242</td>\n",
       "      <td>...</td>\n",
       "      <td>0.0</td>\n",
       "      <td>0.0</td>\n",
       "      <td>0.0</td>\n",
       "      <td>17.500000</td>\n",
       "      <td>1244.553500</td>\n",
       "      <td>29.286153</td>\n",
       "      <td>GUJ</td>\n",
       "      <td>2</td>\n",
       "      <td>333.000000</td>\n",
       "      <td>484.95</td>\n",
       "    </tr>\n",
       "    <tr>\n",
       "      <th>2</th>\n",
       "      <td>3</td>\n",
       "      <td>4.10E+31</td>\n",
       "      <td>1</td>\n",
       "      <td>41000</td>\n",
       "      <td>68</td>\n",
       "      <td>10</td>\n",
       "      <td>1</td>\n",
       "      <td>2</td>\n",
       "      <td>24</td>\n",
       "      <td>242</td>\n",
       "      <td>...</td>\n",
       "      <td>0.0</td>\n",
       "      <td>0.0</td>\n",
       "      <td>0.0</td>\n",
       "      <td>0.000000</td>\n",
       "      <td>1050.315400</td>\n",
       "      <td>31.527046</td>\n",
       "      <td>GUJ</td>\n",
       "      <td>2</td>\n",
       "      <td>35.000000</td>\n",
       "      <td>214.84</td>\n",
       "    </tr>\n",
       "    <tr>\n",
       "      <th>3</th>\n",
       "      <td>4</td>\n",
       "      <td>4.10E+31</td>\n",
       "      <td>1</td>\n",
       "      <td>41000</td>\n",
       "      <td>68</td>\n",
       "      <td>10</td>\n",
       "      <td>1</td>\n",
       "      <td>2</td>\n",
       "      <td>24</td>\n",
       "      <td>242</td>\n",
       "      <td>...</td>\n",
       "      <td>0.0</td>\n",
       "      <td>0.0</td>\n",
       "      <td>0.0</td>\n",
       "      <td>33.333333</td>\n",
       "      <td>1142.591667</td>\n",
       "      <td>27.834607</td>\n",
       "      <td>GUJ</td>\n",
       "      <td>2</td>\n",
       "      <td>168.333333</td>\n",
       "      <td>302.30</td>\n",
       "    </tr>\n",
       "    <tr>\n",
       "      <th>4</th>\n",
       "      <td>5</td>\n",
       "      <td>4.10E+31</td>\n",
       "      <td>1</td>\n",
       "      <td>41000</td>\n",
       "      <td>68</td>\n",
       "      <td>10</td>\n",
       "      <td>1</td>\n",
       "      <td>2</td>\n",
       "      <td>24</td>\n",
       "      <td>242</td>\n",
       "      <td>...</td>\n",
       "      <td>0.0</td>\n",
       "      <td>0.0</td>\n",
       "      <td>0.0</td>\n",
       "      <td>75.000000</td>\n",
       "      <td>945.249500</td>\n",
       "      <td>27.600713</td>\n",
       "      <td>GUJ</td>\n",
       "      <td>2</td>\n",
       "      <td>15.000000</td>\n",
       "      <td>148.00</td>\n",
       "    </tr>\n",
       "  </tbody>\n",
       "</table>\n",
       "<p>5 rows × 384 columns</p>\n",
       "</div>"
      ],
      "text/plain": [
       "   slno       grp  Round_Centre  FSU_number  Round  Schedule_Number  Sample  \\\n",
       "0     1  4.10E+31             1       41000     68               10       1   \n",
       "1     2  4.10E+31             1       41000     68               10       1   \n",
       "2     3  4.10E+31             1       41000     68               10       1   \n",
       "3     4  4.10E+31             1       41000     68               10       1   \n",
       "4     5  4.10E+31             1       41000     68               10       1   \n",
       "\n",
       "   Sector  state  State_Region  ...  pickle_v  sauce_jam_v  Othrprocessed_v  \\\n",
       "0       2     24           242  ...       0.0          0.0              0.0   \n",
       "1       2     24           242  ...       0.0          0.0              0.0   \n",
       "2       2     24           242  ...       0.0          0.0              0.0   \n",
       "3       2     24           242  ...       0.0          0.0              0.0   \n",
       "4       2     24           242  ...       0.0          0.0              0.0   \n",
       "\n",
       "   Beveragestotal_v  foodtotal_v  foodtotal_q  state_1  Region  \\\n",
       "0          0.000000  1141.492400    30.942394      GUJ       2   \n",
       "1         17.500000  1244.553500    29.286153      GUJ       2   \n",
       "2          0.000000  1050.315400    31.527046      GUJ       2   \n",
       "3         33.333333  1142.591667    27.834607      GUJ       2   \n",
       "4         75.000000   945.249500    27.600713      GUJ       2   \n",
       "\n",
       "   fruits_df_tt_v  fv_tot  \n",
       "0       12.000000  154.18  \n",
       "1      333.000000  484.95  \n",
       "2       35.000000  214.84  \n",
       "3      168.333333  302.30  \n",
       "4       15.000000  148.00  \n",
       "\n",
       "[5 rows x 384 columns]"
      ]
     },
     "execution_count": 5,
     "metadata": {},
     "output_type": "execute_result"
    }
   ],
   "source": [
    "df.head()"
   ]
  },
  {
   "cell_type": "code",
   "execution_count": 6,
   "id": "2d35a4db",
   "metadata": {
    "ExecuteTime": {
     "end_time": "2024-06-16T10:16:09.802843Z",
     "start_time": "2024-06-16T10:16:09.648192Z"
    }
   },
   "outputs": [],
   "source": [
    "AP = df[df['state_1']==\"AP\"]"
   ]
  },
  {
   "cell_type": "code",
   "execution_count": 7,
   "id": "32725550",
   "metadata": {
    "ExecuteTime": {
     "end_time": "2024-06-16T10:16:11.812225Z",
     "start_time": "2024-06-16T10:16:11.783885Z"
    }
   },
   "outputs": [
    {
     "data": {
      "text/plain": [
       "soyabean_q             6899\n",
       "soyabean_v             6899\n",
       "Meals_School           6838\n",
       "Meals_Employer         6794\n",
       "Otherwise_possessed    6692\n",
       "                       ... \n",
       "brinjal_q                 0\n",
       "tamato_q                  0\n",
       "onion_q                   0\n",
       "potato_q                  0\n",
       "fv_tot                    0\n",
       "Length: 384, dtype: int64"
      ]
     },
     "execution_count": 7,
     "metadata": {},
     "output_type": "execute_result"
    }
   ],
   "source": [
    "AP.isnull().sum().sort_values(ascending = False)"
   ]
  },
  {
   "cell_type": "code",
   "execution_count": 8,
   "id": "e4792270",
   "metadata": {
    "ExecuteTime": {
     "end_time": "2024-06-16T10:16:13.989311Z",
     "start_time": "2024-06-16T10:16:13.983296Z"
    }
   },
   "outputs": [
    {
     "data": {
      "text/plain": [
       "Index(['slno', 'grp', 'Round_Centre', 'FSU_number', 'Round', 'Schedule_Number',\n",
       "       'Sample', 'Sector', 'state', 'State_Region',\n",
       "       ...\n",
       "       'pickle_v', 'sauce_jam_v', 'Othrprocessed_v', 'Beveragestotal_v',\n",
       "       'foodtotal_v', 'foodtotal_q', 'state_1', 'Region', 'fruits_df_tt_v',\n",
       "       'fv_tot'],\n",
       "      dtype='object', length=384)"
      ]
     },
     "execution_count": 8,
     "metadata": {},
     "output_type": "execute_result"
    }
   ],
   "source": [
    "df.columns"
   ]
  },
  {
   "cell_type": "code",
   "execution_count": 25,
   "id": "995fbd7d",
   "metadata": {
    "ExecuteTime": {
     "end_time": "2024-06-16T10:20:50.710568Z",
     "start_time": "2024-06-16T10:20:50.703352Z"
    }
   },
   "outputs": [],
   "source": [
    "AP_new = AP[['state_1', 'District', 'Sector','Region','State_Region','ricetotal_q','wheattotal_q','moong_q','Milktotal_q','chicken_q','bread_q','foodtotal_q','Beveragestotal_v','Meals_At_Home']]"
   ]
  },
  {
   "cell_type": "code",
   "execution_count": 26,
   "id": "c51a30c5",
   "metadata": {
    "ExecuteTime": {
     "end_time": "2024-06-16T10:20:51.924641Z",
     "start_time": "2024-06-16T10:20:51.915336Z"
    }
   },
   "outputs": [
    {
     "data": {
      "text/plain": [
       "Meals_At_Home       122\n",
       "state_1               0\n",
       "District              0\n",
       "Sector                0\n",
       "Region                0\n",
       "State_Region          0\n",
       "ricetotal_q           0\n",
       "wheattotal_q          0\n",
       "moong_q               0\n",
       "Milktotal_q           0\n",
       "chicken_q             0\n",
       "bread_q               0\n",
       "foodtotal_q           0\n",
       "Beveragestotal_v      0\n",
       "dtype: int64"
      ]
     },
     "execution_count": 26,
     "metadata": {},
     "output_type": "execute_result"
    }
   ],
   "source": [
    "AP_new.isnull().sum().sort_values(ascending = False)"
   ]
  },
  {
   "cell_type": "code",
   "execution_count": 27,
   "id": "42af1fb2",
   "metadata": {
    "ExecuteTime": {
     "end_time": "2024-06-16T10:20:53.377364Z",
     "start_time": "2024-06-16T10:20:53.372637Z"
    }
   },
   "outputs": [],
   "source": [
    "AP_clean = AP_new.copy()"
   ]
  },
  {
   "cell_type": "code",
   "execution_count": 28,
   "id": "72563526",
   "metadata": {
    "ExecuteTime": {
     "end_time": "2024-06-16T10:20:56.084026Z",
     "start_time": "2024-06-16T10:20:56.078287Z"
    }
   },
   "outputs": [],
   "source": [
    "AP_clean.loc[:, 'Meals_At_Home'] = AP_clean['Meals_At_Home'].fillna(AP_new['Meals_At_Home'].mean())"
   ]
  },
  {
   "cell_type": "code",
   "execution_count": 29,
   "id": "5330a3c9",
   "metadata": {
    "ExecuteTime": {
     "end_time": "2024-06-16T10:21:00.719814Z",
     "start_time": "2024-06-16T10:21:00.711639Z"
    }
   },
   "outputs": [
    {
     "data": {
      "text/plain": [
       "state_1             False\n",
       "District            False\n",
       "Sector              False\n",
       "Region              False\n",
       "State_Region        False\n",
       "ricetotal_q         False\n",
       "wheattotal_q        False\n",
       "moong_q             False\n",
       "Milktotal_q         False\n",
       "chicken_q           False\n",
       "bread_q             False\n",
       "foodtotal_q         False\n",
       "Beveragestotal_v    False\n",
       "Meals_At_Home       False\n",
       "dtype: bool"
      ]
     },
     "execution_count": 29,
     "metadata": {},
     "output_type": "execute_result"
    }
   ],
   "source": [
    "AP_clean.isnull().any()"
   ]
  },
  {
   "cell_type": "code",
   "execution_count": 17,
   "id": "7c188e84",
   "metadata": {
    "ExecuteTime": {
     "end_time": "2024-06-16T04:25:21.294749Z",
     "start_time": "2024-06-16T04:25:21.291497Z"
    }
   },
   "outputs": [],
   "source": [
    "# Outlier Checking"
   ]
  },
  {
   "cell_type": "code",
   "execution_count": 34,
   "id": "53723eaa",
   "metadata": {
    "ExecuteTime": {
     "end_time": "2024-06-16T10:22:13.080162Z",
     "start_time": "2024-06-16T10:22:12.710152Z"
    }
   },
   "outputs": [
    {
     "data": {
      "image/png": "[encoded data removed]",
      "text/plain": [
       "<Figure size 800x600 with 1 Axes>"
      ]
     },
     "metadata": {},
     "output_type": "display_data"
    }
   ],
   "source": [
    "import matplotlib.pyplot as plt\n",
    "# Assuming AP_clean is your DataFrame\n",
    "plt.figure(figsize=(8, 6))\n",
    "plt.boxplot(AP_clean['ricetotal_q'])\n",
    "plt.xlabel('ricetotal_q')\n",
    "plt.ylabel('Values')\n",
    "plt.title('Boxplot of ricetotal_q')\n",
    "plt.show()"
   ]
  },
  {
   "cell_type": "code",
   "execution_count": 36,
   "id": "adbfd8ac",
   "metadata": {
    "ExecuteTime": {
     "end_time": "2024-06-16T10:22:31.063124Z",
     "start_time": "2024-06-16T10:22:31.055234Z"
    }
   },
   "outputs": [],
   "source": [
    "rice1 = AP_clean['ricetotal_q'].quantile(0.25)\n",
    "rice2 = AP_clean['ricetotal_q'].quantile(0.75)\n",
    "iqr_rice = rice2-rice1\n",
    "up_limit = rice2 + 1.5*iqr_rice\n",
    "low_limit = rice1 - 1.5*iqr_rice"
   ]
  },
  {
   "cell_type": "code",
   "execution_count": 37,
   "id": "0ae50df0",
   "metadata": {
    "ExecuteTime": {
     "end_time": "2024-06-16T10:22:43.643572Z",
     "start_time": "2024-06-16T10:22:43.634294Z"
    }
   },
   "outputs": [],
   "source": [
    "AP_clean=AP_new[(AP_new['ricetotal_q']<=up_limit)&(AP_new['ricetotal_q']>=low_limit)]"
   ]
  },
  {
   "cell_type": "code",
   "execution_count": 39,
   "id": "bb56d36d",
   "metadata": {
    "ExecuteTime": {
     "end_time": "2024-06-16T10:23:15.268648Z",
     "start_time": "2024-06-16T10:23:15.119902Z"
    }
   },
   "outputs": [
    {
     "data": {
      "text/plain": [
       "{'whiskers': [<matplotlib.lines.Line2D at 0x21a91a17850>,\n",
       "  <matplotlib.lines.Line2D at 0x21a91a18050>],\n",
       " 'caps': [<matplotlib.lines.Line2D at 0x21a91a18c10>,\n",
       "  <matplotlib.lines.Line2D at 0x21a91a19550>],\n",
       " 'boxes': [<matplotlib.lines.Line2D at 0x21a90bb5410>],\n",
       " 'medians': [<matplotlib.lines.Line2D at 0x21a91a19e90>],\n",
       " 'fliers': [<matplotlib.lines.Line2D at 0x21a91a18650>],\n",
       " 'means': []}"
      ]
     },
     "execution_count": 39,
     "metadata": {},
     "output_type": "execute_result"
    },
    {
     "data": {
      "image/png": "[encoded data removed]",
      "text/plain": [
       "<Figure size 640x480 with 1 Axes>"
      ]
     },
     "metadata": {},
     "output_type": "display_data"
    }
   ],
   "source": [
    "plt.boxplot(AP_clean['ricetotal_q'])"
   ]
  },
  {
   "cell_type": "code",
   "execution_count": 40,
   "id": "60373275",
   "metadata": {
    "ExecuteTime": {
     "end_time": "2024-06-16T10:23:19.022374Z",
     "start_time": "2024-06-16T10:23:19.011587Z"
    }
   },
   "outputs": [
    {
     "data": {
      "text/plain": [
       "array([ 5, 10,  9,  7,  8,  6,  4,  3,  2,  1, 23, 21, 22, 18, 17, 19, 20,\n",
       "       16, 15, 14, 13, 11, 12], dtype=int64)"
      ]
     },
     "execution_count": 40,
     "metadata": {},
     "output_type": "execute_result"
    }
   ],
   "source": [
    "AP_clean['District'].unique()"
   ]
  },
  {
   "cell_type": "code",
   "execution_count": 41,
   "id": "37cdeaa5",
   "metadata": {
    "ExecuteTime": {
     "end_time": "2024-06-16T10:23:21.044003Z",
     "start_time": "2024-06-16T10:23:21.036312Z"
    }
   },
   "outputs": [],
   "source": [
    "# Replace values in the 'Sector' column\n",
    "AP_clean.loc[:,'Sector'] = AP_clean['Sector'].replace([1, 2], ['URBAN', 'RURAL'])"
   ]
  },
  {
   "cell_type": "code",
   "execution_count": 27,
   "id": "4338bcd0",
   "metadata": {
    "ExecuteTime": {
     "end_time": "2024-06-16T04:29:12.691488Z",
     "start_time": "2024-06-16T04:29:12.688111Z"
    }
   },
   "outputs": [],
   "source": [
    "#total consumption"
   ]
  },
  {
   "cell_type": "code",
   "execution_count": 44,
   "id": "97703b81",
   "metadata": {
    "ExecuteTime": {
     "end_time": "2024-06-16T10:23:35.351538Z",
     "start_time": "2024-06-16T10:23:35.346912Z"
    }
   },
   "outputs": [
    {
     "data": {
      "text/plain": [
       "Index(['state_1', 'District', 'Sector', 'Region', 'State_Region',\n",
       "       'ricetotal_q', 'wheattotal_q', 'moong_q', 'Milktotal_q', 'chicken_q',\n",
       "       'bread_q', 'foodtotal_q', 'Beveragestotal_v', 'Meals_At_Home'],\n",
       "      dtype='object')"
      ]
     },
     "execution_count": 44,
     "metadata": {},
     "output_type": "execute_result"
    }
   ],
   "source": [
    "AP_clean.columns"
   ]
  },
  {
   "cell_type": "code",
   "execution_count": 46,
   "id": "5907b983",
   "metadata": {
    "ExecuteTime": {
     "end_time": "2024-06-16T10:24:00.625661Z",
     "start_time": "2024-06-16T10:24:00.615361Z"
    },
    "scrolled": true
   },
   "outputs": [],
   "source": [
    "AP_clean.loc[:, 'total_consumption'] = AP_clean[['ricetotal_q', 'wheattotal_q', 'moong_q', 'Milktotal_q', 'chicken_q', 'bread_q', 'foodtotal_q', 'Beveragestotal_v']].sum(axis=1)"
   ]
  },
  {
   "cell_type": "code",
   "execution_count": 47,
   "id": "08face5f",
   "metadata": {
    "ExecuteTime": {
     "end_time": "2024-06-16T10:24:02.553328Z",
     "start_time": "2024-06-16T10:24:02.537298Z"
    }
   },
   "outputs": [
    {
     "data": {
      "text/html": [
       "<div>\n",
       "<style scoped>\n",
       "    .dataframe tbody tr th:only-of-type {\n",
       "        vertical-align: middle;\n",
       "    }\n",
       "\n",
       "    .dataframe tbody tr th {\n",
       "        vertical-align: top;\n",
       "    }\n",
       "\n",
       "    .dataframe thead th {\n",
       "        text-align: right;\n",
       "    }\n",
       "</style>\n",
       "<table border=\"1\" class=\"dataframe\">\n",
       "  <thead>\n",
       "    <tr style=\"text-align: right;\">\n",
       "      <th></th>\n",
       "      <th>state_1</th>\n",
       "      <th>District</th>\n",
       "      <th>Sector</th>\n",
       "      <th>Region</th>\n",
       "      <th>State_Region</th>\n",
       "      <th>ricetotal_q</th>\n",
       "      <th>wheattotal_q</th>\n",
       "      <th>moong_q</th>\n",
       "      <th>Milktotal_q</th>\n",
       "      <th>chicken_q</th>\n",
       "      <th>bread_q</th>\n",
       "      <th>foodtotal_q</th>\n",
       "      <th>Beveragestotal_v</th>\n",
       "      <th>Meals_At_Home</th>\n",
       "      <th>total_consumption</th>\n",
       "    </tr>\n",
       "  </thead>\n",
       "  <tbody>\n",
       "    <tr>\n",
       "      <th>6777</th>\n",
       "      <td>AP</td>\n",
       "      <td>5</td>\n",
       "      <td>RURAL</td>\n",
       "      <td>3</td>\n",
       "      <td>283</td>\n",
       "      <td>5.0</td>\n",
       "      <td>1.666667</td>\n",
       "      <td>0.166667</td>\n",
       "      <td>0</td>\n",
       "      <td>0.166667</td>\n",
       "      <td>0.083333</td>\n",
       "      <td>18.308732</td>\n",
       "      <td>23.337333</td>\n",
       "      <td>60.0</td>\n",
       "      <td>48.729398</td>\n",
       "    </tr>\n",
       "    <tr>\n",
       "      <th>6778</th>\n",
       "      <td>AP</td>\n",
       "      <td>5</td>\n",
       "      <td>RURAL</td>\n",
       "      <td>3</td>\n",
       "      <td>283</td>\n",
       "      <td>15.0</td>\n",
       "      <td>0.000000</td>\n",
       "      <td>0.000000</td>\n",
       "      <td>0</td>\n",
       "      <td>0.500000</td>\n",
       "      <td>0.000000</td>\n",
       "      <td>29.781670</td>\n",
       "      <td>10.000000</td>\n",
       "      <td>60.0</td>\n",
       "      <td>55.281670</td>\n",
       "    </tr>\n",
       "    <tr>\n",
       "      <th>6779</th>\n",
       "      <td>AP</td>\n",
       "      <td>5</td>\n",
       "      <td>RURAL</td>\n",
       "      <td>3</td>\n",
       "      <td>283</td>\n",
       "      <td>9.0</td>\n",
       "      <td>0.400000</td>\n",
       "      <td>0.000000</td>\n",
       "      <td>0</td>\n",
       "      <td>0.100000</td>\n",
       "      <td>0.000000</td>\n",
       "      <td>18.412530</td>\n",
       "      <td>0.000000</td>\n",
       "      <td>60.0</td>\n",
       "      <td>27.912530</td>\n",
       "    </tr>\n",
       "    <tr>\n",
       "      <th>6780</th>\n",
       "      <td>AP</td>\n",
       "      <td>5</td>\n",
       "      <td>RURAL</td>\n",
       "      <td>3</td>\n",
       "      <td>283</td>\n",
       "      <td>11.5</td>\n",
       "      <td>1.250000</td>\n",
       "      <td>0.062500</td>\n",
       "      <td>0</td>\n",
       "      <td>0.250000</td>\n",
       "      <td>0.125000</td>\n",
       "      <td>24.025527</td>\n",
       "      <td>0.006000</td>\n",
       "      <td>60.0</td>\n",
       "      <td>37.219027</td>\n",
       "    </tr>\n",
       "    <tr>\n",
       "      <th>6781</th>\n",
       "      <td>AP</td>\n",
       "      <td>5</td>\n",
       "      <td>RURAL</td>\n",
       "      <td>3</td>\n",
       "      <td>283</td>\n",
       "      <td>12.0</td>\n",
       "      <td>1.000000</td>\n",
       "      <td>0.000000</td>\n",
       "      <td>0</td>\n",
       "      <td>0.100000</td>\n",
       "      <td>0.100000</td>\n",
       "      <td>22.070518</td>\n",
       "      <td>10.000000</td>\n",
       "      <td>84.0</td>\n",
       "      <td>45.270518</td>\n",
       "    </tr>\n",
       "  </tbody>\n",
       "</table>\n",
       "</div>"
      ],
      "text/plain": [
       "     state_1  District Sector  Region  State_Region  ricetotal_q  \\\n",
       "6777      AP         5  RURAL       3           283          5.0   \n",
       "6778      AP         5  RURAL       3           283         15.0   \n",
       "6779      AP         5  RURAL       3           283          9.0   \n",
       "6780      AP         5  RURAL       3           283         11.5   \n",
       "6781      AP         5  RURAL       3           283         12.0   \n",
       "\n",
       "      wheattotal_q   moong_q  Milktotal_q  chicken_q   bread_q  foodtotal_q  \\\n",
       "6777      1.666667  0.166667            0   0.166667  0.083333    18.308732   \n",
       "6778      0.000000  0.000000            0   0.500000  0.000000    29.781670   \n",
       "6779      0.400000  0.000000            0   0.100000  0.000000    18.412530   \n",
       "6780      1.250000  0.062500            0   0.250000  0.125000    24.025527   \n",
       "6781      1.000000  0.000000            0   0.100000  0.100000    22.070518   \n",
       "\n",
       "      Beveragestotal_v  Meals_At_Home  total_consumption  \n",
       "6777         23.337333           60.0          48.729398  \n",
       "6778         10.000000           60.0          55.281670  \n",
       "6779          0.000000           60.0          27.912530  \n",
       "6780          0.006000           60.0          37.219027  \n",
       "6781         10.000000           84.0          45.270518  "
      ]
     },
     "execution_count": 47,
     "metadata": {},
     "output_type": "execute_result"
    }
   ],
   "source": [
    "AP_clean.head()"
   ]
  },
  {
   "cell_type": "code",
   "execution_count": 48,
   "id": "21f5310f",
   "metadata": {
    "ExecuteTime": {
     "end_time": "2024-06-16T10:24:05.914207Z",
     "start_time": "2024-06-16T10:24:05.880170Z"
    }
   },
   "outputs": [
    {
     "data": {
      "text/html": [
       "<div>\n",
       "<style scoped>\n",
       "    .dataframe tbody tr th:only-of-type {\n",
       "        vertical-align: middle;\n",
       "    }\n",
       "\n",
       "    .dataframe tbody tr th {\n",
       "        vertical-align: top;\n",
       "    }\n",
       "\n",
       "    .dataframe thead tr th {\n",
       "        text-align: left;\n",
       "    }\n",
       "\n",
       "    .dataframe thead tr:last-of-type th {\n",
       "        text-align: right;\n",
       "    }\n",
       "</style>\n",
       "<table border=\"1\" class=\"dataframe\">\n",
       "  <thead>\n",
       "    <tr>\n",
       "      <th></th>\n",
       "      <th colspan=\"4\" halign=\"left\">total_consumption</th>\n",
       "    </tr>\n",
       "    <tr>\n",
       "      <th></th>\n",
       "      <th>std</th>\n",
       "      <th>mean</th>\n",
       "      <th>max</th>\n",
       "      <th>min</th>\n",
       "    </tr>\n",
       "    <tr>\n",
       "      <th>Region</th>\n",
       "      <th></th>\n",
       "      <th></th>\n",
       "      <th></th>\n",
       "      <th></th>\n",
       "    </tr>\n",
       "  </thead>\n",
       "  <tbody>\n",
       "    <tr>\n",
       "      <th>1</th>\n",
       "      <td>34.296665</td>\n",
       "      <td>52.496520</td>\n",
       "      <td>515.500000</td>\n",
       "      <td>9.400250</td>\n",
       "    </tr>\n",
       "    <tr>\n",
       "      <th>2</th>\n",
       "      <td>28.004309</td>\n",
       "      <td>50.412912</td>\n",
       "      <td>503.804451</td>\n",
       "      <td>11.675500</td>\n",
       "    </tr>\n",
       "    <tr>\n",
       "      <th>3</th>\n",
       "      <td>36.461364</td>\n",
       "      <td>56.075728</td>\n",
       "      <td>469.195210</td>\n",
       "      <td>8.983412</td>\n",
       "    </tr>\n",
       "    <tr>\n",
       "      <th>4</th>\n",
       "      <td>21.431712</td>\n",
       "      <td>47.885858</td>\n",
       "      <td>214.789225</td>\n",
       "      <td>14.800350</td>\n",
       "    </tr>\n",
       "    <tr>\n",
       "      <th>5</th>\n",
       "      <td>28.297460</td>\n",
       "      <td>51.225699</td>\n",
       "      <td>464.228199</td>\n",
       "      <td>12.000000</td>\n",
       "    </tr>\n",
       "  </tbody>\n",
       "</table>\n",
       "</div>"
      ],
      "text/plain": [
       "       total_consumption                                  \n",
       "                     std       mean         max        min\n",
       "Region                                                    \n",
       "1              34.296665  52.496520  515.500000   9.400250\n",
       "2              28.004309  50.412912  503.804451  11.675500\n",
       "3              36.461364  56.075728  469.195210   8.983412\n",
       "4              21.431712  47.885858  214.789225  14.800350\n",
       "5              28.297460  51.225699  464.228199  12.000000"
      ]
     },
     "execution_count": 48,
     "metadata": {},
     "output_type": "execute_result"
    }
   ],
   "source": [
    "AP_clean.groupby('Region').agg({'total_consumption':['std','mean','max','min']})"
   ]
  },
  {
   "cell_type": "code",
   "execution_count": 49,
   "id": "9350a8aa",
   "metadata": {
    "ExecuteTime": {
     "end_time": "2024-06-16T10:24:07.986326Z",
     "start_time": "2024-06-16T10:24:07.969988Z"
    }
   },
   "outputs": [
    {
     "data": {
      "text/html": [
       "<div>\n",
       "<style scoped>\n",
       "    .dataframe tbody tr th:only-of-type {\n",
       "        vertical-align: middle;\n",
       "    }\n",
       "\n",
       "    .dataframe tbody tr th {\n",
       "        vertical-align: top;\n",
       "    }\n",
       "\n",
       "    .dataframe thead tr th {\n",
       "        text-align: left;\n",
       "    }\n",
       "\n",
       "    .dataframe thead tr:last-of-type th {\n",
       "        text-align: right;\n",
       "    }\n",
       "</style>\n",
       "<table border=\"1\" class=\"dataframe\">\n",
       "  <thead>\n",
       "    <tr>\n",
       "      <th></th>\n",
       "      <th colspan=\"4\" halign=\"left\">total_consumption</th>\n",
       "    </tr>\n",
       "    <tr>\n",
       "      <th></th>\n",
       "      <th>std</th>\n",
       "      <th>mean</th>\n",
       "      <th>max</th>\n",
       "      <th>min</th>\n",
       "    </tr>\n",
       "    <tr>\n",
       "      <th>District</th>\n",
       "      <th></th>\n",
       "      <th></th>\n",
       "      <th></th>\n",
       "      <th></th>\n",
       "    </tr>\n",
       "  </thead>\n",
       "  <tbody>\n",
       "    <tr>\n",
       "      <th>1</th>\n",
       "      <td>23.845184</td>\n",
       "      <td>51.509327</td>\n",
       "      <td>205.588088</td>\n",
       "      <td>8.983412</td>\n",
       "    </tr>\n",
       "    <tr>\n",
       "      <th>2</th>\n",
       "      <td>24.795813</td>\n",
       "      <td>52.616025</td>\n",
       "      <td>181.761045</td>\n",
       "      <td>19.015029</td>\n",
       "    </tr>\n",
       "    <tr>\n",
       "      <th>3</th>\n",
       "      <td>17.103694</td>\n",
       "      <td>40.704630</td>\n",
       "      <td>178.263130</td>\n",
       "      <td>18.613035</td>\n",
       "    </tr>\n",
       "    <tr>\n",
       "      <th>4</th>\n",
       "      <td>21.371534</td>\n",
       "      <td>44.730328</td>\n",
       "      <td>268.745435</td>\n",
       "      <td>21.775551</td>\n",
       "    </tr>\n",
       "    <tr>\n",
       "      <th>5</th>\n",
       "      <td>48.198011</td>\n",
       "      <td>65.716977</td>\n",
       "      <td>397.603705</td>\n",
       "      <td>12.000000</td>\n",
       "    </tr>\n",
       "    <tr>\n",
       "      <th>6</th>\n",
       "      <td>34.651498</td>\n",
       "      <td>56.213359</td>\n",
       "      <td>264.988405</td>\n",
       "      <td>20.360352</td>\n",
       "    </tr>\n",
       "    <tr>\n",
       "      <th>7</th>\n",
       "      <td>35.428999</td>\n",
       "      <td>53.849872</td>\n",
       "      <td>469.195210</td>\n",
       "      <td>21.701005</td>\n",
       "    </tr>\n",
       "    <tr>\n",
       "      <th>8</th>\n",
       "      <td>21.882245</td>\n",
       "      <td>50.707352</td>\n",
       "      <td>149.781234</td>\n",
       "      <td>22.450725</td>\n",
       "    </tr>\n",
       "    <tr>\n",
       "      <th>9</th>\n",
       "      <td>25.999215</td>\n",
       "      <td>54.834322</td>\n",
       "      <td>214.789225</td>\n",
       "      <td>20.575365</td>\n",
       "    </tr>\n",
       "    <tr>\n",
       "      <th>10</th>\n",
       "      <td>15.543320</td>\n",
       "      <td>45.411785</td>\n",
       "      <td>113.501015</td>\n",
       "      <td>14.800350</td>\n",
       "    </tr>\n",
       "    <tr>\n",
       "      <th>11</th>\n",
       "      <td>31.212767</td>\n",
       "      <td>51.292501</td>\n",
       "      <td>290.690517</td>\n",
       "      <td>18.350243</td>\n",
       "    </tr>\n",
       "    <tr>\n",
       "      <th>12</th>\n",
       "      <td>28.172770</td>\n",
       "      <td>50.928521</td>\n",
       "      <td>166.081600</td>\n",
       "      <td>9.400250</td>\n",
       "    </tr>\n",
       "    <tr>\n",
       "      <th>13</th>\n",
       "      <td>36.700847</td>\n",
       "      <td>49.776463</td>\n",
       "      <td>515.500000</td>\n",
       "      <td>13.200085</td>\n",
       "    </tr>\n",
       "    <tr>\n",
       "      <th>14</th>\n",
       "      <td>33.808825</td>\n",
       "      <td>48.864203</td>\n",
       "      <td>396.982228</td>\n",
       "      <td>13.125298</td>\n",
       "    </tr>\n",
       "    <tr>\n",
       "      <th>15</th>\n",
       "      <td>35.853305</td>\n",
       "      <td>61.471043</td>\n",
       "      <td>241.651325</td>\n",
       "      <td>18.587800</td>\n",
       "    </tr>\n",
       "    <tr>\n",
       "      <th>16</th>\n",
       "      <td>39.978027</td>\n",
       "      <td>59.540085</td>\n",
       "      <td>503.804451</td>\n",
       "      <td>11.675500</td>\n",
       "    </tr>\n",
       "    <tr>\n",
       "      <th>17</th>\n",
       "      <td>25.060855</td>\n",
       "      <td>46.091051</td>\n",
       "      <td>216.000530</td>\n",
       "      <td>11.990102</td>\n",
       "    </tr>\n",
       "    <tr>\n",
       "      <th>18</th>\n",
       "      <td>14.241345</td>\n",
       "      <td>46.852630</td>\n",
       "      <td>118.850575</td>\n",
       "      <td>18.550120</td>\n",
       "    </tr>\n",
       "    <tr>\n",
       "      <th>19</th>\n",
       "      <td>17.647695</td>\n",
       "      <td>47.698671</td>\n",
       "      <td>151.554365</td>\n",
       "      <td>22.050655</td>\n",
       "    </tr>\n",
       "    <tr>\n",
       "      <th>20</th>\n",
       "      <td>36.134489</td>\n",
       "      <td>56.103714</td>\n",
       "      <td>464.228199</td>\n",
       "      <td>18.242887</td>\n",
       "    </tr>\n",
       "    <tr>\n",
       "      <th>21</th>\n",
       "      <td>20.129181</td>\n",
       "      <td>42.497799</td>\n",
       "      <td>137.040693</td>\n",
       "      <td>14.140320</td>\n",
       "    </tr>\n",
       "    <tr>\n",
       "      <th>22</th>\n",
       "      <td>18.907819</td>\n",
       "      <td>45.619045</td>\n",
       "      <td>179.676450</td>\n",
       "      <td>12.000000</td>\n",
       "    </tr>\n",
       "    <tr>\n",
       "      <th>23</th>\n",
       "      <td>31.685892</td>\n",
       "      <td>60.910832</td>\n",
       "      <td>205.511070</td>\n",
       "      <td>14.750110</td>\n",
       "    </tr>\n",
       "  </tbody>\n",
       "</table>\n",
       "</div>"
      ],
      "text/plain": [
       "         total_consumption                                  \n",
       "                       std       mean         max        min\n",
       "District                                                    \n",
       "1                23.845184  51.509327  205.588088   8.983412\n",
       "2                24.795813  52.616025  181.761045  19.015029\n",
       "3                17.103694  40.704630  178.263130  18.613035\n",
       "4                21.371534  44.730328  268.745435  21.775551\n",
       "5                48.198011  65.716977  397.603705  12.000000\n",
       "6                34.651498  56.213359  264.988405  20.360352\n",
       "7                35.428999  53.849872  469.195210  21.701005\n",
       "8                21.882245  50.707352  149.781234  22.450725\n",
       "9                25.999215  54.834322  214.789225  20.575365\n",
       "10               15.543320  45.411785  113.501015  14.800350\n",
       "11               31.212767  51.292501  290.690517  18.350243\n",
       "12               28.172770  50.928521  166.081600   9.400250\n",
       "13               36.700847  49.776463  515.500000  13.200085\n",
       "14               33.808825  48.864203  396.982228  13.125298\n",
       "15               35.853305  61.471043  241.651325  18.587800\n",
       "16               39.978027  59.540085  503.804451  11.675500\n",
       "17               25.060855  46.091051  216.000530  11.990102\n",
       "18               14.241345  46.852630  118.850575  18.550120\n",
       "19               17.647695  47.698671  151.554365  22.050655\n",
       "20               36.134489  56.103714  464.228199  18.242887\n",
       "21               20.129181  42.497799  137.040693  14.140320\n",
       "22               18.907819  45.619045  179.676450  12.000000\n",
       "23               31.685892  60.910832  205.511070  14.750110"
      ]
     },
     "execution_count": 49,
     "metadata": {},
     "output_type": "execute_result"
    }
   ],
   "source": [
    "AP_clean.groupby('District').agg({'total_consumption':['std','mean','max','min']})"
   ]
  },
  {
   "cell_type": "code",
   "execution_count": 50,
   "id": "e401d915",
   "metadata": {
    "ExecuteTime": {
     "end_time": "2024-06-16T10:24:13.578223Z",
     "start_time": "2024-06-16T10:24:13.572952Z"
    }
   },
   "outputs": [],
   "source": [
    "total_consumption_by_districtcode=AP_clean.groupby('District')['total_consumption'].sum()"
   ]
  },
  {
   "cell_type": "code",
   "execution_count": 51,
   "id": "ad3a96bd",
   "metadata": {
    "ExecuteTime": {
     "end_time": "2024-06-16T10:24:16.346448Z",
     "start_time": "2024-06-16T10:24:16.338380Z"
    }
   },
   "outputs": [
    {
     "data": {
      "text/plain": [
       "District\n",
       "5     32267.035919\n",
       "6     22035.636681\n",
       "23    20466.039522\n",
       "Name: total_consumption, dtype: float64"
      ]
     },
     "execution_count": 51,
     "metadata": {},
     "output_type": "execute_result"
    }
   ],
   "source": [
    "total_consumption_by_districtcode.sort_values(ascending=False).head(3)"
   ]
  },
  {
   "cell_type": "code",
   "execution_count": 52,
   "id": "7202253b",
   "metadata": {
    "ExecuteTime": {
     "end_time": "2024-06-16T10:24:19.340120Z",
     "start_time": "2024-06-16T10:24:19.333211Z"
    }
   },
   "outputs": [],
   "source": [
    "AP_clean.loc[:,\"District\"] = AP_clean.loc[:,\"District\"].replace({5: \"Hyderabad and Rangar\", 6: \"Rangareddi\", 23: \"Chittoor\"})"
   ]
  },
  {
   "cell_type": "code",
   "execution_count": 53,
   "id": "892eaac3",
   "metadata": {
    "ExecuteTime": {
     "end_time": "2024-06-16T10:24:21.218784Z",
     "start_time": "2024-06-16T10:24:21.210645Z"
    }
   },
   "outputs": [],
   "source": [
    "total_consumption_by_districtname=AP_clean.groupby('District')['total_consumption'].sum()"
   ]
  },
  {
   "cell_type": "code",
   "execution_count": 54,
   "id": "ccd48af2",
   "metadata": {
    "ExecuteTime": {
     "end_time": "2024-06-16T10:24:22.901993Z",
     "start_time": "2024-06-16T10:24:22.895026Z"
    }
   },
   "outputs": [
    {
     "data": {
      "text/plain": [
       "District\n",
       "Hyderabad and Rangar    32267.035919\n",
       "Rangareddi              22035.636681\n",
       "Chittoor                20466.039522\n",
       "Name: total_consumption, dtype: float64"
      ]
     },
     "execution_count": 54,
     "metadata": {},
     "output_type": "execute_result"
    }
   ],
   "source": [
    "total_consumption_by_districtname.sort_values(ascending=False).head(3)"
   ]
  },
  {
   "cell_type": "code",
   "execution_count": 55,
   "id": "f34a7ab3",
   "metadata": {
    "ExecuteTime": {
     "end_time": "2024-06-16T10:24:26.024999Z",
     "start_time": "2024-06-16T10:24:26.002237Z"
    }
   },
   "outputs": [],
   "source": [
    "from statsmodels.stats import weightstats as stests"
   ]
  },
  {
   "cell_type": "code",
   "execution_count": 56,
   "id": "7a0f3736",
   "metadata": {
    "ExecuteTime": {
     "end_time": "2024-06-16T10:24:27.312812Z",
     "start_time": "2024-06-16T10:24:27.303906Z"
    }
   },
   "outputs": [],
   "source": [
    "rural=AP_clean[AP_clean['Sector']==\"RURAL\"]\n",
    "urban=AP_clean[AP_clean['Sector']==\"URBAN\"]"
   ]
  },
  {
   "cell_type": "code",
   "execution_count": 57,
   "id": "ed868d23",
   "metadata": {
    "ExecuteTime": {
     "end_time": "2024-06-16T10:24:28.869178Z",
     "start_time": "2024-06-16T10:24:28.853238Z"
    }
   },
   "outputs": [
    {
     "data": {
      "text/html": [
       "<div>\n",
       "<style scoped>\n",
       "    .dataframe tbody tr th:only-of-type {\n",
       "        vertical-align: middle;\n",
       "    }\n",
       "\n",
       "    .dataframe tbody tr th {\n",
       "        vertical-align: top;\n",
       "    }\n",
       "\n",
       "    .dataframe thead th {\n",
       "        text-align: right;\n",
       "    }\n",
       "</style>\n",
       "<table border=\"1\" class=\"dataframe\">\n",
       "  <thead>\n",
       "    <tr style=\"text-align: right;\">\n",
       "      <th></th>\n",
       "      <th>state_1</th>\n",
       "      <th>District</th>\n",
       "      <th>Sector</th>\n",
       "      <th>Region</th>\n",
       "      <th>State_Region</th>\n",
       "      <th>ricetotal_q</th>\n",
       "      <th>wheattotal_q</th>\n",
       "      <th>moong_q</th>\n",
       "      <th>Milktotal_q</th>\n",
       "      <th>chicken_q</th>\n",
       "      <th>bread_q</th>\n",
       "      <th>foodtotal_q</th>\n",
       "      <th>Beveragestotal_v</th>\n",
       "      <th>Meals_At_Home</th>\n",
       "      <th>total_consumption</th>\n",
       "    </tr>\n",
       "  </thead>\n",
       "  <tbody>\n",
       "    <tr>\n",
       "      <th>6777</th>\n",
       "      <td>AP</td>\n",
       "      <td>Hyderabad and Rangar</td>\n",
       "      <td>RURAL</td>\n",
       "      <td>3</td>\n",
       "      <td>283</td>\n",
       "      <td>5.0</td>\n",
       "      <td>1.666667</td>\n",
       "      <td>0.166667</td>\n",
       "      <td>0</td>\n",
       "      <td>0.166667</td>\n",
       "      <td>0.083333</td>\n",
       "      <td>18.308732</td>\n",
       "      <td>23.337333</td>\n",
       "      <td>60.0</td>\n",
       "      <td>48.729398</td>\n",
       "    </tr>\n",
       "    <tr>\n",
       "      <th>6778</th>\n",
       "      <td>AP</td>\n",
       "      <td>Hyderabad and Rangar</td>\n",
       "      <td>RURAL</td>\n",
       "      <td>3</td>\n",
       "      <td>283</td>\n",
       "      <td>15.0</td>\n",
       "      <td>0.000000</td>\n",
       "      <td>0.000000</td>\n",
       "      <td>0</td>\n",
       "      <td>0.500000</td>\n",
       "      <td>0.000000</td>\n",
       "      <td>29.781670</td>\n",
       "      <td>10.000000</td>\n",
       "      <td>60.0</td>\n",
       "      <td>55.281670</td>\n",
       "    </tr>\n",
       "    <tr>\n",
       "      <th>6779</th>\n",
       "      <td>AP</td>\n",
       "      <td>Hyderabad and Rangar</td>\n",
       "      <td>RURAL</td>\n",
       "      <td>3</td>\n",
       "      <td>283</td>\n",
       "      <td>9.0</td>\n",
       "      <td>0.400000</td>\n",
       "      <td>0.000000</td>\n",
       "      <td>0</td>\n",
       "      <td>0.100000</td>\n",
       "      <td>0.000000</td>\n",
       "      <td>18.412530</td>\n",
       "      <td>0.000000</td>\n",
       "      <td>60.0</td>\n",
       "      <td>27.912530</td>\n",
       "    </tr>\n",
       "    <tr>\n",
       "      <th>6780</th>\n",
       "      <td>AP</td>\n",
       "      <td>Hyderabad and Rangar</td>\n",
       "      <td>RURAL</td>\n",
       "      <td>3</td>\n",
       "      <td>283</td>\n",
       "      <td>11.5</td>\n",
       "      <td>1.250000</td>\n",
       "      <td>0.062500</td>\n",
       "      <td>0</td>\n",
       "      <td>0.250000</td>\n",
       "      <td>0.125000</td>\n",
       "      <td>24.025527</td>\n",
       "      <td>0.006000</td>\n",
       "      <td>60.0</td>\n",
       "      <td>37.219027</td>\n",
       "    </tr>\n",
       "    <tr>\n",
       "      <th>6781</th>\n",
       "      <td>AP</td>\n",
       "      <td>Hyderabad and Rangar</td>\n",
       "      <td>RURAL</td>\n",
       "      <td>3</td>\n",
       "      <td>283</td>\n",
       "      <td>12.0</td>\n",
       "      <td>1.000000</td>\n",
       "      <td>0.000000</td>\n",
       "      <td>0</td>\n",
       "      <td>0.100000</td>\n",
       "      <td>0.100000</td>\n",
       "      <td>22.070518</td>\n",
       "      <td>10.000000</td>\n",
       "      <td>84.0</td>\n",
       "      <td>45.270518</td>\n",
       "    </tr>\n",
       "  </tbody>\n",
       "</table>\n",
       "</div>"
      ],
      "text/plain": [
       "     state_1              District Sector  Region  State_Region  ricetotal_q  \\\n",
       "6777      AP  Hyderabad and Rangar  RURAL       3           283          5.0   \n",
       "6778      AP  Hyderabad and Rangar  RURAL       3           283         15.0   \n",
       "6779      AP  Hyderabad and Rangar  RURAL       3           283          9.0   \n",
       "6780      AP  Hyderabad and Rangar  RURAL       3           283         11.5   \n",
       "6781      AP  Hyderabad and Rangar  RURAL       3           283         12.0   \n",
       "\n",
       "      wheattotal_q   moong_q  Milktotal_q  chicken_q   bread_q  foodtotal_q  \\\n",
       "6777      1.666667  0.166667            0   0.166667  0.083333    18.308732   \n",
       "6778      0.000000  0.000000            0   0.500000  0.000000    29.781670   \n",
       "6779      0.400000  0.000000            0   0.100000  0.000000    18.412530   \n",
       "6780      1.250000  0.062500            0   0.250000  0.125000    24.025527   \n",
       "6781      1.000000  0.000000            0   0.100000  0.100000    22.070518   \n",
       "\n",
       "      Beveragestotal_v  Meals_At_Home  total_consumption  \n",
       "6777         23.337333           60.0          48.729398  \n",
       "6778         10.000000           60.0          55.281670  \n",
       "6779          0.000000           60.0          27.912530  \n",
       "6780          0.006000           60.0          37.219027  \n",
       "6781         10.000000           84.0          45.270518  "
      ]
     },
     "execution_count": 57,
     "metadata": {},
     "output_type": "execute_result"
    }
   ],
   "source": [
    "rural.head()"
   ]
  },
  {
   "cell_type": "code",
   "execution_count": 58,
   "id": "cba3ad77",
   "metadata": {
    "ExecuteTime": {
     "end_time": "2024-06-16T10:24:31.022488Z",
     "start_time": "2024-06-16T10:24:31.001243Z"
    }
   },
   "outputs": [
    {
     "data": {
      "text/html": [
       "<div>\n",
       "<style scoped>\n",
       "    .dataframe tbody tr th:only-of-type {\n",
       "        vertical-align: middle;\n",
       "    }\n",
       "\n",
       "    .dataframe tbody tr th {\n",
       "        vertical-align: top;\n",
       "    }\n",
       "\n",
       "    .dataframe thead th {\n",
       "        text-align: right;\n",
       "    }\n",
       "</style>\n",
       "<table border=\"1\" class=\"dataframe\">\n",
       "  <thead>\n",
       "    <tr style=\"text-align: right;\">\n",
       "      <th></th>\n",
       "      <th>state_1</th>\n",
       "      <th>District</th>\n",
       "      <th>Sector</th>\n",
       "      <th>Region</th>\n",
       "      <th>State_Region</th>\n",
       "      <th>ricetotal_q</th>\n",
       "      <th>wheattotal_q</th>\n",
       "      <th>moong_q</th>\n",
       "      <th>Milktotal_q</th>\n",
       "      <th>chicken_q</th>\n",
       "      <th>bread_q</th>\n",
       "      <th>foodtotal_q</th>\n",
       "      <th>Beveragestotal_v</th>\n",
       "      <th>Meals_At_Home</th>\n",
       "      <th>total_consumption</th>\n",
       "    </tr>\n",
       "  </thead>\n",
       "  <tbody>\n",
       "    <tr>\n",
       "      <th>62733</th>\n",
       "      <td>AP</td>\n",
       "      <td>16</td>\n",
       "      <td>URBAN</td>\n",
       "      <td>2</td>\n",
       "      <td>282</td>\n",
       "      <td>10.0</td>\n",
       "      <td>2.000000</td>\n",
       "      <td>0.000000</td>\n",
       "      <td>0</td>\n",
       "      <td>0.000000</td>\n",
       "      <td>0.0</td>\n",
       "      <td>38.850555</td>\n",
       "      <td>0.000</td>\n",
       "      <td>60.0</td>\n",
       "      <td>50.850555</td>\n",
       "    </tr>\n",
       "    <tr>\n",
       "      <th>62734</th>\n",
       "      <td>AP</td>\n",
       "      <td>16</td>\n",
       "      <td>URBAN</td>\n",
       "      <td>2</td>\n",
       "      <td>282</td>\n",
       "      <td>10.0</td>\n",
       "      <td>0.333333</td>\n",
       "      <td>0.166667</td>\n",
       "      <td>0</td>\n",
       "      <td>0.333333</td>\n",
       "      <td>0.0</td>\n",
       "      <td>30.317625</td>\n",
       "      <td>76.678</td>\n",
       "      <td>60.0</td>\n",
       "      <td>117.828958</td>\n",
       "    </tr>\n",
       "    <tr>\n",
       "      <th>62735</th>\n",
       "      <td>AP</td>\n",
       "      <td>16</td>\n",
       "      <td>URBAN</td>\n",
       "      <td>2</td>\n",
       "      <td>282</td>\n",
       "      <td>11.5</td>\n",
       "      <td>0.500000</td>\n",
       "      <td>0.250000</td>\n",
       "      <td>0</td>\n",
       "      <td>0.500000</td>\n",
       "      <td>0.0</td>\n",
       "      <td>29.801230</td>\n",
       "      <td>49.000</td>\n",
       "      <td>60.0</td>\n",
       "      <td>91.551230</td>\n",
       "    </tr>\n",
       "    <tr>\n",
       "      <th>62736</th>\n",
       "      <td>AP</td>\n",
       "      <td>16</td>\n",
       "      <td>URBAN</td>\n",
       "      <td>2</td>\n",
       "      <td>282</td>\n",
       "      <td>10.0</td>\n",
       "      <td>0.000000</td>\n",
       "      <td>0.200000</td>\n",
       "      <td>0</td>\n",
       "      <td>0.200000</td>\n",
       "      <td>0.0</td>\n",
       "      <td>24.600460</td>\n",
       "      <td>70.000</td>\n",
       "      <td>60.0</td>\n",
       "      <td>105.000460</td>\n",
       "    </tr>\n",
       "    <tr>\n",
       "      <th>62737</th>\n",
       "      <td>AP</td>\n",
       "      <td>16</td>\n",
       "      <td>URBAN</td>\n",
       "      <td>2</td>\n",
       "      <td>282</td>\n",
       "      <td>10.0</td>\n",
       "      <td>0.500000</td>\n",
       "      <td>0.000000</td>\n",
       "      <td>0</td>\n",
       "      <td>0.250000</td>\n",
       "      <td>0.0</td>\n",
       "      <td>31.025635</td>\n",
       "      <td>50.000</td>\n",
       "      <td>60.0</td>\n",
       "      <td>91.775635</td>\n",
       "    </tr>\n",
       "  </tbody>\n",
       "</table>\n",
       "</div>"
      ],
      "text/plain": [
       "      state_1 District Sector  Region  State_Region  ricetotal_q  \\\n",
       "62733      AP       16  URBAN       2           282         10.0   \n",
       "62734      AP       16  URBAN       2           282         10.0   \n",
       "62735      AP       16  URBAN       2           282         11.5   \n",
       "62736      AP       16  URBAN       2           282         10.0   \n",
       "62737      AP       16  URBAN       2           282         10.0   \n",
       "\n",
       "       wheattotal_q   moong_q  Milktotal_q  chicken_q  bread_q  foodtotal_q  \\\n",
       "62733      2.000000  0.000000            0   0.000000      0.0    38.850555   \n",
       "62734      0.333333  0.166667            0   0.333333      0.0    30.317625   \n",
       "62735      0.500000  0.250000            0   0.500000      0.0    29.801230   \n",
       "62736      0.000000  0.200000            0   0.200000      0.0    24.600460   \n",
       "62737      0.500000  0.000000            0   0.250000      0.0    31.025635   \n",
       "\n",
       "       Beveragestotal_v  Meals_At_Home  total_consumption  \n",
       "62733             0.000           60.0          50.850555  \n",
       "62734            76.678           60.0         117.828958  \n",
       "62735            49.000           60.0          91.551230  \n",
       "62736            70.000           60.0         105.000460  \n",
       "62737            50.000           60.0          91.775635  "
      ]
     },
     "execution_count": 58,
     "metadata": {},
     "output_type": "execute_result"
    }
   ],
   "source": [
    "urban.head()"
   ]
  },
  {
   "cell_type": "code",
   "execution_count": 59,
   "id": "676b513e",
   "metadata": {
    "ExecuteTime": {
     "end_time": "2024-06-16T10:24:32.527594Z",
     "start_time": "2024-06-16T10:24:32.524253Z"
    }
   },
   "outputs": [],
   "source": [
    "cons_rural=rural['total_consumption']\n",
    "cons_urban=urban['total_consumption']"
   ]
  },
  {
   "cell_type": "code",
   "execution_count": 60,
   "id": "7e08040d",
   "metadata": {
    "ExecuteTime": {
     "end_time": "2024-06-16T10:24:33.980015Z",
     "start_time": "2024-06-16T10:24:33.970730Z"
    }
   },
   "outputs": [
    {
     "name": "stdout",
     "output_type": "stream",
     "text": [
      "Z-Score: 12.52569222339867\n",
      "P-Value: 5.4017986377956026e-36\n"
     ]
    }
   ],
   "source": [
    "z_statistic, p_value = stests.ztest(cons_rural, cons_urban)\n",
    "# Print the z-score and p-value\n",
    "print(\"Z-Score:\", z_statistic)\n",
    "print(\"P-Value:\", p_value)"
   ]
  }
 ],
 "metadata": {
  "kernelspec": {
   "display_name": "Python 3 (ipykernel)",
   "language": "python",
   "name": "python3"
  },
  "language_info": {
   "codemirror_mode": {
    "name": "ipython",
    "version": 3
   },
   "file_extension": ".py",
   "mimetype": "text/x-python",
   "name": "python",
   "nbconvert_exporter": "python",
   "pygments_lexer": "ipython3",
   "version": "3.11.5"
  },
  "varInspector": {
   "cols": {
    "lenName": 16,
    "lenType": 16,
    "lenVar": 40
   },
   "kernels_config": {
    "python": {
     "delete_cmd_postfix": "",
     "delete_cmd_prefix": "del ",
     "library": "var_list.py",
     "varRefreshCmd": "print(var_dic_list())"
    },
    "r": {
     "delete_cmd_postfix": ") ",
     "delete_cmd_prefix": "rm(",
     "library": "var_list.r",
     "varRefreshCmd": "cat(var_dic_list()) "
    }
   },
   "types_to_exclude": [
    "module",
    "function",
    "builtin_function_or_method",
    "instance",
    "_Feature"
   ],
   "window_display": false
  }
 },
 "nbformat": 4,
 "nbformat_minor": 5
}
