{
 "cells": [
  {
   "cell_type": "code",
   "execution_count": 11,
   "id": "fd3e9cd0",
   "metadata": {
    "ExecuteTime": {
     "end_time": "2024-06-16T10:15:50.841477Z",
     "start_time": "2024-06-16T10:15:50.836891Z"
    }
   },
   "outputs": [],
   "source": [
    "# Setting the working directory\n",
    "import os\n",
    "os.chdir(\"D:/Teaching/SCMA632 2025 C51/Assignments/R\")"
   ]
  },
  {
   "cell_type": "markdown",
   "id": "550c84d0-5c38-497f-86f5-dd7f9edd5148",
   "metadata": {},
   "source": [
    "### 1. Installing and Importing Necessary libraries"
   ]
  },
  {
   "cell_type": "markdown",
   "id": "ad52003c-b9f0-426b-bb82-81e66cc5a649",
   "metadata": {},
   "source": [
    "#### 📦 1.1 Installing a Package in Python\n",
    "\n",
    "To install a package in Python, use the following syntax:\n",
    "\n",
    "```Python\n",
    "pip install <package_name>\n",
    "```\n",
    "- ✅ Each installation should be on a separate line.\n",
    "- 🔁 You only need to install a package once, unless updates are required for your project.\n",
    "\n",
    "#### 🛠️ 1.1.1 Install Required Packages (Run Only Once)\n",
    "\n",
    "Use the following commands to install the required libraries:\n",
    "\n",
    "```Python\n",
    "pip install pandas\n",
    "pip install numpy\n",
    "pip install matplotlib\n",
    "pip install statsmodels\n",
    "```"
   ]
  },
  {
   "cell_type": "code",
   "execution_count": null,
   "id": "74dd6dd8-b9c3-4b28-87af-3ded2043bce4",
   "metadata": {},
   "outputs": [],
   "source": [
    "!pip install pandas"
   ]
  },
  {
   "cell_type": "code",
   "execution_count": null,
   "id": "26d394d3-c9ed-445e-8c0b-252b6b043728",
   "metadata": {},
   "outputs": [],
   "source": [
    "!pip install numpy"
   ]
  },
  {
   "cell_type": "code",
   "execution_count": null,
   "id": "3d984c20-66cc-476c-8455-3eb95b726458",
   "metadata": {},
   "outputs": [],
   "source": [
    "!pip install matplotlib"
   ]
  },
  {
   "cell_type": "code",
   "execution_count": null,
   "id": "0bd3f5b5-146f-43fb-8030-210e9daf3481",
   "metadata": {},
   "outputs": [],
   "source": [
    "!pip install statsmodels"
   ]
  },
  {
   "cell_type": "markdown",
   "id": "5577c905-226f-4690-a4f8-cba4b1b7513b",
   "metadata": {},
   "source": [
    "⚠️ Note: After successful installation, you do not need to re-run these commands every time.\n",
    "You can comment them out in your code cell like this to avoid reinstalling:\n",
    "```Python\n",
    "#! pip install pandas\n",
    "#! pip install numpy\n",
    "#! pip install matplotlib\n",
    "#! pip install statsmodels"
   ]
  },
  {
   "cell_type": "markdown",
   "id": "5b20ee37-5ed6-40f3-a7cf-8a4409e6eece",
   "metadata": {},
   "source": [
    "### 📚 1.2 Importing Necessary Libraries\n",
    "\n",
    "Before starting your analysis, make sure to import all the essential libraries:\n",
    "\n",
    "```python\n",
    "import pandas as pd                  # For data manipulation and analysis\n",
    "import numpy as np                   # For numerical operations\n",
    "import matplotlib.pyplot as plt      # For data visualization\n",
    "from statsmodels.stats import weightstats as stests  # For statistical testing\n",
    "```\n",
    "These libraries provide functions for handling data, numerical computations, plotting, and statistical analysis."
   ]
  },
  {
   "cell_type": "code",
   "execution_count": 18,
   "id": "f7c473ad-f76d-4dad-b654-183ec99a79dc",
   "metadata": {},
   "outputs": [],
   "source": [
    "import pandas as pd\n",
    "import numpy as np\n",
    "import matplotlib.pyplot as plt\n",
    "from statsmodels.stats import weightstats as stests"
   ]
  },
  {
   "cell_type": "markdown",
   "id": "5d93d059-3f4f-49a5-9f32-6e4f89d33b6a",
   "metadata": {},
   "source": [
    "### 📂 2. Reading the Dataset into the Python/Jupyter Environment\n",
    "\n",
    "Use the `pandas` library to load the dataset (`NSSO68.csv`) into your environment:\n",
    "\n",
    "```python\n",
    "import pandas as pd # this import statement is only needed if you have not imported the library previously\n",
    "df = pd.read_csv(\"filepath\", encoding=\"Latin-1\", low_memory=False)\n",
    "```\n",
    "📝 Notes:\n",
    "`encoding=\"Latin-1\"` is used to handle special characters or non-UTF-8 encodings in the dataset.\n",
    "`low_memory=False` ensures that pandas reads the file in one go, which helps avoid data type inference issues for large datasets like NSSO68.csv."
   ]
  },
  {
   "cell_type": "code",
   "execution_count": 9,
   "id": "2c7b48a8",
   "metadata": {
    "ExecuteTime": {
     "end_time": "2024-06-16T10:16:04.084743Z",
     "start_time": "2024-06-16T10:15:52.236332Z"
    }
   },
   "outputs": [],
   "source": [
    "df = pd.read_csv(\"../Data/NSSO68.csv\", encoding=\"Latin-1\", low_memory=False)"
   ]
  },
  {
   "cell_type": "code",
   "execution_count": 10,
   "id": "550bbf03",
   "metadata": {
    "ExecuteTime": {
     "end_time": "2024-06-16T10:16:05.280199Z",
     "start_time": "2024-06-16T10:16:05.210652Z"
    }
   },
   "outputs": [
    {
     "data": {
      "text/html": [
       "<div>\n",
       "<style scoped>\n",
       "    .dataframe tbody tr th:only-of-type {\n",
       "        vertical-align: middle;\n",
       "    }\n",
       "\n",
       "    .dataframe tbody tr th {\n",
       "        vertical-align: top;\n",
       "    }\n",
       "\n",
       "    .dataframe thead th {\n",
       "        text-align: right;\n",
       "    }\n",
       "</style>\n",
       "<table border=\"1\" class=\"dataframe\">\n",
       "  <thead>\n",
       "    <tr style=\"text-align: right;\">\n",
       "      <th></th>\n",
       "      <th>slno</th>\n",
       "      <th>grp</th>\n",
       "      <th>Round_Centre</th>\n",
       "      <th>FSU_number</th>\n",
       "      <th>Round</th>\n",
       "      <th>Schedule_Number</th>\n",
       "      <th>Sample</th>\n",
       "      <th>Sector</th>\n",
       "      <th>state</th>\n",
       "      <th>State_Region</th>\n",
       "      <th>...</th>\n",
       "      <th>pickle_v</th>\n",
       "      <th>sauce_jam_v</th>\n",
       "      <th>Othrprocessed_v</th>\n",
       "      <th>Beveragestotal_v</th>\n",
       "      <th>foodtotal_v</th>\n",
       "      <th>foodtotal_q</th>\n",
       "      <th>state_1</th>\n",
       "      <th>Region</th>\n",
       "      <th>fruits_df_tt_v</th>\n",
       "      <th>fv_tot</th>\n",
       "    </tr>\n",
       "  </thead>\n",
       "  <tbody>\n",
       "    <tr>\n",
       "      <th>0</th>\n",
       "      <td>1</td>\n",
       "      <td>4.10E+31</td>\n",
       "      <td>1</td>\n",
       "      <td>41000</td>\n",
       "      <td>68</td>\n",
       "      <td>10</td>\n",
       "      <td>1</td>\n",
       "      <td>2</td>\n",
       "      <td>24</td>\n",
       "      <td>242</td>\n",
       "      <td>...</td>\n",
       "      <td>0.0</td>\n",
       "      <td>0.0</td>\n",
       "      <td>0.0</td>\n",
       "      <td>0.000000</td>\n",
       "      <td>1141.492400</td>\n",
       "      <td>30.942394</td>\n",
       "      <td>GUJ</td>\n",
       "      <td>2</td>\n",
       "      <td>12.000000</td>\n",
       "      <td>154.18</td>\n",
       "    </tr>\n",
       "    <tr>\n",
       "      <th>1</th>\n",
       "      <td>2</td>\n",
       "      <td>4.10E+31</td>\n",
       "      <td>1</td>\n",
       "      <td>41000</td>\n",
       "      <td>68</td>\n",
       "      <td>10</td>\n",
       "      <td>1</td>\n",
       "      <td>2</td>\n",
       "      <td>24</td>\n",
       "      <td>242</td>\n",
       "      <td>...</td>\n",
       "      <td>0.0</td>\n",
       "      <td>0.0</td>\n",
       "      <td>0.0</td>\n",
       "      <td>17.500000</td>\n",
       "      <td>1244.553500</td>\n",
       "      <td>29.286153</td>\n",
       "      <td>GUJ</td>\n",
       "      <td>2</td>\n",
       "      <td>333.000000</td>\n",
       "      <td>484.95</td>\n",
       "    </tr>\n",
       "    <tr>\n",
       "      <th>2</th>\n",
       "      <td>3</td>\n",
       "      <td>4.10E+31</td>\n",
       "      <td>1</td>\n",
       "      <td>41000</td>\n",
       "      <td>68</td>\n",
       "      <td>10</td>\n",
       "      <td>1</td>\n",
       "      <td>2</td>\n",
       "      <td>24</td>\n",
       "      <td>242</td>\n",
       "      <td>...</td>\n",
       "      <td>0.0</td>\n",
       "      <td>0.0</td>\n",
       "      <td>0.0</td>\n",
       "      <td>0.000000</td>\n",
       "      <td>1050.315400</td>\n",
       "      <td>31.527046</td>\n",
       "      <td>GUJ</td>\n",
       "      <td>2</td>\n",
       "      <td>35.000000</td>\n",
       "      <td>214.84</td>\n",
       "    </tr>\n",
       "    <tr>\n",
       "      <th>3</th>\n",
       "      <td>4</td>\n",
       "      <td>4.10E+31</td>\n",
       "      <td>1</td>\n",
       "      <td>41000</td>\n",
       "      <td>68</td>\n",
       "      <td>10</td>\n",
       "      <td>1</td>\n",
       "      <td>2</td>\n",
       "      <td>24</td>\n",
       "      <td>242</td>\n",
       "      <td>...</td>\n",
       "      <td>0.0</td>\n",
       "      <td>0.0</td>\n",
       "      <td>0.0</td>\n",
       "      <td>33.333333</td>\n",
       "      <td>1142.591667</td>\n",
       "      <td>27.834607</td>\n",
       "      <td>GUJ</td>\n",
       "      <td>2</td>\n",
       "      <td>168.333333</td>\n",
       "      <td>302.30</td>\n",
       "    </tr>\n",
       "    <tr>\n",
       "      <th>4</th>\n",
       "      <td>5</td>\n",
       "      <td>4.10E+31</td>\n",
       "      <td>1</td>\n",
       "      <td>41000</td>\n",
       "      <td>68</td>\n",
       "      <td>10</td>\n",
       "      <td>1</td>\n",
       "      <td>2</td>\n",
       "      <td>24</td>\n",
       "      <td>242</td>\n",
       "      <td>...</td>\n",
       "      <td>0.0</td>\n",
       "      <td>0.0</td>\n",
       "      <td>0.0</td>\n",
       "      <td>75.000000</td>\n",
       "      <td>945.249500</td>\n",
       "      <td>27.600713</td>\n",
       "      <td>GUJ</td>\n",
       "      <td>2</td>\n",
       "      <td>15.000000</td>\n",
       "      <td>148.00</td>\n",
       "    </tr>\n",
       "  </tbody>\n",
       "</table>\n",
       "<p>5 rows × 384 columns</p>\n",
       "</div>"
      ],
      "text/plain": [
       "   slno       grp  Round_Centre  FSU_number  Round  Schedule_Number  Sample  \\\n",
       "0     1  4.10E+31             1       41000     68               10       1   \n",
       "1     2  4.10E+31             1       41000     68               10       1   \n",
       "2     3  4.10E+31             1       41000     68               10       1   \n",
       "3     4  4.10E+31             1       41000     68               10       1   \n",
       "4     5  4.10E+31             1       41000     68               10       1   \n",
       "\n",
       "   Sector  state  State_Region  ...  pickle_v  sauce_jam_v  Othrprocessed_v  \\\n",
       "0       2     24           242  ...       0.0          0.0              0.0   \n",
       "1       2     24           242  ...       0.0          0.0              0.0   \n",
       "2       2     24           242  ...       0.0          0.0              0.0   \n",
       "3       2     24           242  ...       0.0          0.0              0.0   \n",
       "4       2     24           242  ...       0.0          0.0              0.0   \n",
       "\n",
       "   Beveragestotal_v  foodtotal_v  foodtotal_q  state_1  Region  \\\n",
       "0          0.000000  1141.492400    30.942394      GUJ       2   \n",
       "1         17.500000  1244.553500    29.286153      GUJ       2   \n",
       "2          0.000000  1050.315400    31.527046      GUJ       2   \n",
       "3         33.333333  1142.591667    27.834607      GUJ       2   \n",
       "4         75.000000   945.249500    27.600713      GUJ       2   \n",
       "\n",
       "   fruits_df_tt_v  fv_tot  \n",
       "0       12.000000  154.18  \n",
       "1      333.000000  484.95  \n",
       "2       35.000000  214.84  \n",
       "3      168.333333  302.30  \n",
       "4       15.000000  148.00  \n",
       "\n",
       "[5 rows x 384 columns]"
      ]
     },
     "execution_count": 10,
     "metadata": {},
     "output_type": "execute_result"
    }
   ],
   "source": [
    "df.head()"
   ]
  },
  {
   "cell_type": "markdown",
   "id": "337002a5-32b8-4039-83e4-fe44c66b67cc",
   "metadata": {},
   "source": [
    "### 🔍 3. Filtering Data for a Specific State and Writing the File to a Path\n",
    "\n",
    "To work with data from a particular state, filter the dataset using the state's code or name.\n",
    "\n",
    "```python\n",
    "# Filter the data for Andhra Pradesh (state code/name may vary)\n",
    "state_data = df[df['state_1'] == \"AP\"]\n",
    "```\n",
    "- `state_1` is assumed to be the column representing the state identifier. Replace `\"AP\"` with the correct code or name if needed.\n",
    "\n",
    "- You can then write the filtered data to a new CSV file:\n",
    "\n",
    "### Save the filtered data to a new file\n",
    "```python\n",
    "state_data.to_csv(\"../Filtered/state_data.csv\", index=False)"
   ]
  },
  {
   "cell_type": "code",
   "execution_count": 20,
   "id": "acabcb8a-27f8-49fd-9267-4f641cf63723",
   "metadata": {},
   "outputs": [],
   "source": [
    "#Filtering data for a specific state\n",
    "state_data = df[df['state_1']==\"AP\"]"
   ]
  },
  {
   "cell_type": "code",
   "execution_count": null,
   "id": "98fefda8-131c-4ed0-9fb2-d5215691f118",
   "metadata": {},
   "outputs": [],
   "source": [
    "# Save the filtered data to a new file\n",
    "state_data.to_csv(\"../Filtered/state_data.csv\", index=False)"
   ]
  },
  {
   "cell_type": "markdown",
   "id": "9fdbd60d-e965-444c-b4eb-d3412c46e2d3",
   "metadata": {},
   "source": [
    "### 🧾 4. Display Dataset Information"
   ]
  },
  {
   "cell_type": "code",
   "execution_count": 21,
   "id": "3ac761b8-0f49-4d48-99bf-5976066af590",
   "metadata": {},
   "outputs": [
    {
     "name": "stdout",
     "output_type": "stream",
     "text": [
      "Dataset Information:\n",
      "\n",
      "Column Names:\n",
      "['slno', 'grp', 'Round_Centre', 'FSU_number', 'Round', 'Schedule_Number', 'Sample', 'Sector', 'state', 'State_Region', 'District', 'Stratum_Number', 'Sub_Stratum', 'Schedule_type', 'Sub_Round', 'Sub_Sample', 'FOD_Sub_Region', 'Hamlet_Group_Sub_Block', 't', 'X_Stage_Stratum', 'HHS_No', 'Level', 'Filler', 'hhdsz', 'NIC_2008', 'NCO_2004', 'HH_type', 'Religion', 'Social_Group', 'Whether_owns_any_land', 'Type_of_land_owned', 'Land_Owned', 'Land_Leased_in', 'Otherwise_possessed', 'Land_Leased_out', 'Land_Total_possessed', 'During_July_June_Cultivated', 'During_July_June_Irrigated', 'NSS', 'NSC', 'MLT', 'land_tt', 'Cooking_code', 'Lighting_code', 'Dwelling_unit_code', 'Regular_salary_earner', 'Perform_Ceremony', 'Meals_seved_to_non_hhld_members', 'Possess_ration_card', 'Type_of_ration_card', 'MPCE_URP', 'MPCE_MRP', 'Person_Srl_No', 'Relation', 'Sex', 'Age', 'Marital_Status', 'Education', 'Days_Stayed_away', 'No_of_Meals_per_day', 'Meals_School', 'Meals_Employer', 'Meals_Others', 'Meals_Payment', 'Meals_At_Home', 'Item_Code', 'Source_Code', 'ricepds_q', 'riceos_q', 'ricetotal_q', 'chira_q', 'khoi_q', 'muri_q', 'ricepro_q', 'riceGT_q', 'Wheatpds_q', 'wheatos_q', 'wheattotal_q', 'maida_q', 'suji_q', 'sewai_q', 'bread_q', 'wheatp_q', 'wheatGT_q', 'jowarp_q', 'bajrap_q', 'maizep_q', 'barleyp_q', 'milletp_q', 'ragip_q', 'cerealot_q', 'cerealtot_q', 'cerealsub_q', 'cerealstt_q', 'arhar_q', 'gramdal_q', 'gramwholep_q', 'gramGT_q', 'moong_q', 'masur_q', 'urd_q', 'peasdal_q', 'khesari_q', 'otpulse_q', 'gramp_q', 'besan_q', 'pulsep_q', 'pulsestot_q', 'pulsestt_q', 'soyabean_q', 'milk_q', 'babyfood_q', 'milkcond_q', 'curd_q', 'ghee_q', 'butter_q', 'icecream_q', 'otmilkp_q', 'Milktotal_q', 'milkprott_q', 'vanas_q', 'musoil_q', 'gnoil_q', 'cocooil_q', 'edioilothr_q', 'edibletotal_q', 'ediblest_q', 'eggsno_q', 'fishprawn_q', 'goatmeat_q', 'beef_q', 'pork_q', 'chicken_q', 'othrbirds_q', 'nonvegtotal_q', 'emftt_q', 'potato_q', 'onion_q', 'tamato_q', 'brinjal_q', 'radish_q', 'carrot_q', 'palak_q', 'chillig_q', 'bhindi_q', 'parwal_q', 'cauli_q', 'cabbage_q', 'pumpkin_q', 'peas_q', 'fbeans_q', 'lemonno_q', 'otveg_q', 'vegtt_q', 'bananano_q', 'jackfruit_q', 'watermel_q', 'pineaplno_q', 'cocono_q', 'cocogno_q', 'guava_q', 'sighara_q', 'orangeno_q', 'papayar_q', 'mango_q', 'kharbooz_q', 'pears_q', 'berries_q', 'leechi_q', 'apple_q', 'grapes_q', 'otfruits_q', 'fruitstt_q', 'fruitt_total', 'cocodf_q', 'gnutdf_q', 'datesdf_q', 'cashewdf_q', 'walnutdf_q', 'otnutsdf_q', 'kishmish_q', 'otherdf_q', 'dryfruitstotal_q', 'dftt_q', 'sugarpds_q', 'sugaros_q', 'sugarst_q', 'gur_q', 'misri_q', 'honey_q', 'sugartotal_q', 'sugartt_q', 'salt_q', 'ginger_q', 'garlic_q', 'jeera_q', 'dhania_q', 'turnmeric_q', 'blackpepper_q', 'drychilly_q', 'tamarind_q', 'currypowder_q', 'oilseeds_q', 'spicesothr_q', 'spicetot_q', 'spicestotal_q', 'teacupno_q', 'tealeaf_q', 'teatotal_q', 'cofeeno_q', 'coffeepwdr_q', 'cofeetotal_q', 'ice_q', 'coldbvrg_q', 'juice_q', 'othrbevrg_q', 'bevergest_q', 'Biscuits_q', 'preparedsweet_q', 'pickle_q', 'sauce_jam_q', 'Othrprocessed_q', 'Beveragestotal_q', 'ricepds_v', 'riceos_v', 'ricetotal_v', 'chira_v', 'khoi_v', 'muri_v', 'ricepro_v', 'riceGT_v', 'Wheatpds_v', 'wheatos_v', 'wheattotal_v', 'maida_v', 'suji_v', 'sewai_v', 'bread_v', 'wheatp_v', 'wheatGT_v', 'jowarp_v', 'bajrap_v', 'maizep_v', 'barleyp_v', 'milletp_v', 'ragip_v', 'cerealot_v', 'cerealtot_v', 'cerealsub_v', 'cerealstt_v', 'arhar_v', 'gramdal_v', 'gramwholep_v', 'gramGT_v', 'moong_v', 'masur_v', 'urd_v', 'peasdal_v', 'khesari_v', 'otpulse_v', 'gramp_v', 'besan_v', 'pulsep_v', 'pulsestot_v', 'pulsestt_v', 'soyabean_v', 'milk_v', 'babyfood_v', 'milkcond_v', 'curd_v', 'ghee_v', 'butter_v', 'icecream_v', 'otmilkp_v', 'Milktotal_v', 'milkprott_v', 'vanas_v', 'musoil_v', 'gnoil_v', 'cocooil_v', 'edioilothr_v', 'edibletotal_v', 'ediblest_v', 'eggsno_v', 'fishprawn_v', 'goatmeat_v', 'beef_v', 'pork_v', 'chicken_v', 'othrbirds_v', 'nonvegtotal_v', 'emftt_v', 'potato_v', 'onion_v', 'tamato_v', 'brinjal_v', 'radish_v', 'carrot_v', 'palak_v', 'chillig_v', 'bhindi_v', 'parwal_v', 'cauli_v', 'cabbage_v', 'pumpkin_v', 'peas_v', 'fbeans_v', 'lemonno_v', 'otveg_v', 'vegtt_v', 'bananano_v', 'jackfruit_v', 'watermel_v', 'pineaplno_v', 'cocono_v', 'cocogno_v', 'guava_v', 'sighara_v', 'orangeno_v', 'papayar_v', 'mango_v', 'kharbooz_v', 'pears_v', 'berries_v', 'leechi_v', 'apple_v', 'grapes_v', 'otfruits_v', 'fruitstt_v', 'cocodf_v', 'gnutdf_v', 'datesdf_v', 'cashewdf_v', 'walnutdf_v', 'otnutsdf_v', 'kishmish_v', 'otherdf_v', 'dryfruitstotal_v', 'dftt_v', 'sugarpds_v', 'sugaros_v', 'sugarst_v', 'gur_v', 'misri_v', 'honey_v', 'sugartotal_v', 'sugartt_v', 'salt_v', 'ginger_v', 'garlic_v', 'jeera_v', 'dhania_v', 'turnmeric_v', 'blackpepper_v', 'drychilly_v', 'tamarind_v', 'currypowder_v', 'oilseeds_v', 'spicesothr_v', 'spicetot_v', 'spicestotal_v', 'teacupno_v', 'tealeaf_v', 'teatotal_v', 'cofeeno_v', 'coffeepwdr_v', 'cofeetotal_v', 'ice_v', 'coldbvrg_v', 'juice_v', 'othrbevrg_v', 'bevergest_v', 'Biscuits_v', 'preparedsweet_v', 'pickle_v', 'sauce_jam_v', 'Othrprocessed_v', 'Beveragestotal_v', 'foodtotal_v', 'foodtotal_q', 'state_1', 'Region', 'fruits_df_tt_v', 'fv_tot']\n",
      "\n",
      "First 5 Rows:\n",
      "      slno       grp  Round_Centre  FSU_number  Round  Schedule_Number  \\\n",
      "6777  6778  4.20E+31             1       42000     68               10   \n",
      "6778  6779  4.20E+31             1       42000     68               10   \n",
      "6779  6780  4.20E+31             1       42000     68               10   \n",
      "6780  6781  4.20E+31             1       42000     68               10   \n",
      "6781  6782  4.20E+31             1       42000     68               10   \n",
      "\n",
      "      Sample  Sector  state  State_Region  ...  pickle_v  sauce_jam_v  \\\n",
      "6777       1       2     28           283  ...       0.0        0.004   \n",
      "6778       1       2     28           283  ...       0.0        0.000   \n",
      "6779       1       2     28           283  ...       0.0        0.000   \n",
      "6780       1       2     28           283  ...       0.0        0.006   \n",
      "6781       1       2     28           283  ...       0.0        0.000   \n",
      "\n",
      "      Othrprocessed_v  Beveragestotal_v  foodtotal_v  foodtotal_q  state_1  \\\n",
      "6777              0.0         23.337333   688.811333    18.308732       AP   \n",
      "6778              0.0         10.000000   886.641000    29.781670       AP   \n",
      "6779              0.0          0.000000   465.255800    18.412530       AP   \n",
      "6780              0.0          0.006000   625.153500    24.025527       AP   \n",
      "6781              0.0         10.000000   490.580400    22.070518       AP   \n",
      "\n",
      "      Region  fruits_df_tt_v      fv_tot  \n",
      "6777       3       41.333333   96.383333  \n",
      "6778       3       20.000000  185.000000  \n",
      "6779       3       13.880000   68.128000  \n",
      "6780       3       24.500000   94.067500  \n",
      "6781       3       20.800000   83.260000  \n",
      "\n",
      "[5 rows x 384 columns]\n",
      "\n",
      "Dimensions (rows, columns):\n",
      "(6899, 384)\n",
      "\n",
      "Total Missing Values:\n",
      "80172\n"
     ]
    }
   ],
   "source": [
    "# Displaying dataset information in Python\n",
    "\n",
    "print(\"Dataset Information:\\n\")\n",
    "\n",
    "# Column names\n",
    "print(\"Column Names:\")\n",
    "print(state_data.columns.tolist())\n",
    "\n",
    "# First few rows\n",
    "print(\"\\nFirst 5 Rows:\")\n",
    "print(state_data.head())\n",
    "\n",
    "# Dimensions of the dataset\n",
    "print(\"\\nDimensions (rows, columns):\")\n",
    "print(state_data.shape)\n",
    "\n",
    "# Total number of missing values in the dataset\n",
    "print(\"\\nTotal Missing Values:\")\n",
    "print(state_data.isna().sum().sum())"
   ]
  },
  {
   "cell_type": "markdown",
   "id": "354c4367-05cf-43fc-afbd-5ec9ead2a469",
   "metadata": {},
   "source": [
    "### 🧹 5. Check for Missing Values\n",
    "\n",
    "To identify missing values in the dataset, use the `.isnull()` function followed by `.sum()` to get the count per column:\n",
    "\n",
    "```python\n",
    "# Check for missing values in each column, sorted in descending order\n",
    "missing_values = state_data.isnull().sum().sort_values(ascending=False)\n",
    "print(\"Missing Values per Column (Descending Order):\\n\")\n",
    "print(missing_values)\n",
    "```\n",
    "📝 Notes:\n",
    "- This helps you identify which columns have the most missing data.\n",
    "- If needed, you can decide whether to impute, drop, or otherwise handle the missing values based on this summary."
   ]
  },
  {
   "cell_type": "code",
   "execution_count": 22,
   "id": "32725550",
   "metadata": {
    "ExecuteTime": {
     "end_time": "2024-06-16T10:16:11.812225Z",
     "start_time": "2024-06-16T10:16:11.783885Z"
    }
   },
   "outputs": [
    {
     "data": {
      "text/plain": [
       "soyabean_q             6899\n",
       "soyabean_v             6899\n",
       "Meals_School           6838\n",
       "Meals_Employer         6794\n",
       "Otherwise_possessed    6692\n",
       "                       ... \n",
       "brinjal_q                 0\n",
       "tamato_q                  0\n",
       "onion_q                   0\n",
       "potato_q                  0\n",
       "fv_tot                    0\n",
       "Length: 384, dtype: int64"
      ]
     },
     "execution_count": 22,
     "metadata": {},
     "output_type": "execute_result"
    }
   ],
   "source": [
    "state_data.isnull().sum().sort_values(ascending = False)"
   ]
  },
  {
   "cell_type": "markdown",
   "id": "20b840bb-26d3-4c59-b766-dd5afc69b757",
   "metadata": {},
   "source": [
    "### ✂️ 6. Subsetting the Dataset for Assigned Variables\n",
    "\n",
    "We now create a subset of the dataset by selecting only the variables relevant to our analysis:\n",
    "\n",
    "```python\n",
    "# Subsetting specific columns from the dataset\n",
    "state_subset = state_data[[\n",
    "    'state_1', \n",
    "    'District', \n",
    "    'Region', \n",
    "    'Sector', \n",
    "    'State_Region', \n",
    "    'Meals_At_Home', \n",
    "    'ricetotal_v', \n",
    "    'wheattotal_v', \n",
    "    'Milktotal_v', \n",
    "    'pulsestot_v', \n",
    "    'nonvegtotal_v', \n",
    "    'fruitstt_v', \n",
    "    'No_of_Meals_per_day'\n",
    "]]\n",
    "```\n",
    "📌 Explanation:\n",
    "- This subset includes:\n",
    "\n",
    "-- Identifiers & Categories: `state_1`, `District`, `Region`, `Sector`, `State_Region`\n",
    "-- Food Consumption (Volume/Value): `ricetotal_v`, `wheattotal_v`, `Milktotal_v`, `pulsestot_v`, `nonvegtotal_v`, `fruitstt_v`\n",
    "-- Meal Patterns: `Meals_At_Home`, `No_of_Meals_per_day`\n",
    "-- This step streamlines the dataset for focused analysis on food consumption and meal frequency by region/state."
   ]
  },
  {
   "cell_type": "code",
   "execution_count": 23,
   "id": "d1a31869-9b6b-4b95-9156-1e2bf609c4c2",
   "metadata": {},
   "outputs": [],
   "source": [
    "# Subsetting specific columns from the dataset\n",
    "state_subset = state_data[[\n",
    "    'state_1', \n",
    "    'District', \n",
    "    'Region', \n",
    "    'Sector', \n",
    "    'State_Region', \n",
    "    'Meals_At_Home', \n",
    "    'ricetotal_v', \n",
    "    'wheattotal_v', \n",
    "    'Milktotal_v', \n",
    "    'pulsestot_v', \n",
    "    'nonvegtotal_v', \n",
    "    'fruitstt_v', \n",
    "    'No_of_Meals_per_day'\n",
    "]]"
   ]
  },
  {
   "cell_type": "markdown",
   "id": "e380fe1f-2e7c-4d3b-950a-1e27aaaf020e",
   "metadata": {},
   "source": [
    "### 🧪 7. Imputing Missing Values with Mean for numeric variables\n",
    "\n",
    "We will fill missing values in numeric columns with their respective column means:\n",
    "\n",
    "```python\n",
    "# Display missing value count before imputation\n",
    "print(\"🔍 Missing Values Before Imputation:\\n\")\n",
    "print(state_subset.isna().sum())\n",
    "\n",
    "# Impute missing values with column mean (numeric columns only)\n",
    "state_subset.fillna(state_subset.mean(numeric_only=True), inplace=True)\n",
    "\n",
    "# Display missing value count after imputation\n",
    "print(\"\\n✅ Missing Values After Imputation:\\n\")\n",
    "print(state_subset.isna().sum())"
   ]
  },
  {
   "cell_type": "code",
   "execution_count": 30,
   "id": "ada93e21-d3bf-48da-b767-52e2895f280e",
   "metadata": {},
   "outputs": [
    {
     "name": "stdout",
     "output_type": "stream",
     "text": [
      "🔍 Missing Values Before Imputation:\n",
      "\n",
      "state_1                  0\n",
      "District                 0\n",
      "Region                   0\n",
      "Sector                   0\n",
      "State_Region             0\n",
      "Meals_At_Home          122\n",
      "ricetotal_v              0\n",
      "wheattotal_v             0\n",
      "Milktotal_v              0\n",
      "pulsestot_v              0\n",
      "nonvegtotal_v            0\n",
      "fruitstt_v               0\n",
      "No_of_Meals_per_day      0\n",
      "dtype: int64\n"
     ]
    }
   ],
   "source": [
    "# Display missing value count before imputation\n",
    "print(\"🔍 Missing Values Before Imputation:\\n\")\n",
    "print(state_subset.isna().sum())"
   ]
  },
  {
   "cell_type": "code",
   "execution_count": 33,
   "id": "247c51aa-c5cf-441a-8118-3290336de4af",
   "metadata": {},
   "outputs": [
    {
     "name": "stdout",
     "output_type": "stream",
     "text": [
      "\n",
      "✅ Missing Values After Imputation:\n",
      "\n",
      "state_1                0\n",
      "District               0\n",
      "Region                 0\n",
      "Sector                 0\n",
      "State_Region           0\n",
      "Meals_At_Home          0\n",
      "ricetotal_v            0\n",
      "wheattotal_v           0\n",
      "Milktotal_v            0\n",
      "pulsestot_v            0\n",
      "nonvegtotal_v          0\n",
      "fruitstt_v             0\n",
      "No_of_Meals_per_day    0\n",
      "dtype: int64\n"
     ]
    }
   ],
   "source": [
    "# Impute missing values with column mean (numeric columns only)\n",
    "state_cleaned = state_subset.fillna(state_subset.mean(numeric_only=True))\n",
    "\n",
    "# Display missing value count after imputation\n",
    "print(\"\\n✅ Missing Values After Imputation:\\n\")\n",
    "print(state_cleaned.isna().sum())"
   ]
  },
  {
   "cell_type": "markdown",
   "id": "979a3b1f-3f80-4c61-9be4-e9291f536ec8",
   "metadata": {},
   "source": [
    "### 📉 8. Removing Outliers Using the IQR Method"
   ]
  },
  {
   "cell_type": "code",
   "execution_count": 35,
   "id": "7c188e84",
   "metadata": {
    "ExecuteTime": {
     "end_time": "2024-06-16T04:25:21.294749Z",
     "start_time": "2024-06-16T04:25:21.291497Z"
    }
   },
   "outputs": [
    {
     "name": "stdout",
     "output_type": "stream",
     "text": [
      "\n",
      "📋 Columns in the Cleaned Dataset:\n",
      "['state_1', 'District', 'Region', 'Sector', 'State_Region', 'Meals_At_Home', 'ricetotal_v', 'wheattotal_v', 'Milktotal_v', 'pulsestot_v', 'nonvegtotal_v', 'fruitstt_v', 'No_of_Meals_per_day']\n"
     ]
    }
   ],
   "source": [
    "# Define a function to remove outliers based on IQR\n",
    "def remove_outliers(df, column_name):\n",
    "    Q1 = df[column_name].quantile(0.25)\n",
    "    Q3 = df[column_name].quantile(0.75)\n",
    "    IQR = Q3 - Q1\n",
    "    lower_threshold = Q1 - 1.5 * IQR\n",
    "    upper_threshold = Q3 + 1.5 * IQR\n",
    "    return df[(df[column_name] >= lower_threshold) & (df[column_name] <= upper_threshold)]\n",
    "\n",
    "# List of columns to apply outlier removal\n",
    "outlier_columns = [\n",
    "    'Meals_At_Home', 'ricetotal_v', 'wheattotal_v', 'Milktotal_v',\n",
    "    'pulsestot_v', 'nonvegtotal_v', 'fruitstt_v', 'No_of_Meals_per_day'\n",
    "]\n",
    "\n",
    "# Apply the function to each column\n",
    "for col in outlier_columns:\n",
    "    state_cleaned = remove_outliers(state_cleaned, col)\n",
    "\n",
    "# ✅ Display the column names (equivalent to R's names(state_subset))\n",
    "print(\"\\n📋 Columns in the Cleaned Dataset:\")\n",
    "print(state_cleaned.columns.tolist())"
   ]
  },
  {
   "cell_type": "code",
   "execution_count": 36,
   "id": "53723eaa",
   "metadata": {
    "ExecuteTime": {
     "end_time": "2024-06-16T10:22:13.080162Z",
     "start_time": "2024-06-16T10:22:12.710152Z"
    }
   },
   "outputs": [
    {
     "data": {
      "image/png": "[encoded data removed]",
      "text/plain": [
       "<Figure size 800x600 with 1 Axes>"
      ]
     },
     "metadata": {},
     "output_type": "display_data"
    }
   ],
   "source": [
    "import matplotlib.pyplot as plt\n",
    "# Assuming AP_clean is your DataFrame\n",
    "plt.figure(figsize=(8, 6))\n",
    "plt.boxplot(state_cleaned['ricetotal_v'])\n",
    "plt.xlabel('ricetotal_v')\n",
    "plt.ylabel('Values')\n",
    "plt.title('Boxplot of ricetotal_v')\n",
    "plt.show()"
   ]
  },
  {
   "cell_type": "markdown",
   "id": "8b06339f-8ba3-45c0-ad81-3838b35f3a5f",
   "metadata": {},
   "source": [
    "### 9. Create a new column `total_consumption` as the sum of selected columns"
   ]
  },
  {
   "cell_type": "code",
   "execution_count": 40,
   "id": "84145275-e983-4122-9985-36c0fa19b6f3",
   "metadata": {},
   "outputs": [],
   "source": [
    "# Create a new column 'total_consumption' as the sum of selected columns\n",
    "state_cleaned['total_consumption'] = state_cleaned[\n",
    "    ['ricetotal_v', 'wheattotal_v', 'Milktotal_v', \n",
    "     'pulsestot_v', 'nonvegtotal_v', 'fruitstt_v']\n",
    "].sum(axis=1)"
   ]
  },
  {
   "cell_type": "markdown",
   "id": "bc47db02-0083-4259-887f-a20f4a5ab965",
   "metadata": {},
   "source": [
    "### 10. Summarize Consumption by Group (District, Region, Sector)"
   ]
  },
  {
   "cell_type": "code",
   "execution_count": 42,
   "id": "480fce14-6802-4d8e-8443-e12ac71fd5cc",
   "metadata": {},
   "outputs": [
    {
     "name": "stdout",
     "output_type": "stream",
     "text": [
      "\n",
      "🔝 Top 4 Consuming Districts:\n",
      "    District  total_consumption\n",
      "4          5      141249.984966\n",
      "5          6      114217.293471\n",
      "16        17      110004.998016\n",
      "22        23      105600.498810\n",
      "\n",
      "🧭 Region Consumption Summary:\n",
      "   Region  total_consumption\n",
      "2       3      503569.680033\n",
      "0       1      389429.322742\n",
      "1       2      383256.667623\n",
      "4       5      334717.668561\n",
      "3       4      333364.448016\n",
      "\n",
      "🏙️ Sector Consumption Summary:\n",
      "   Sector  total_consumption\n",
      "0       1       1.132863e+06\n",
      "1       2       8.114752e+05\n",
      "\n",
      "🔻 Bottom 4 Consuming Districts:\n",
      "    District  total_consumption\n",
      "0          1       55393.570238\n",
      "11        12       51622.462271\n",
      "10        11       50006.562454\n",
      "1          2       48234.214286\n"
     ]
    }
   ],
   "source": [
    "# Group and summarize total consumption by a given column\n",
    "def summarize_consumption(df, group_col):\n",
    "    summary = df.groupby(group_col)['total_consumption'].sum().reset_index()\n",
    "    summary = summary.sort_values(by='total_consumption', ascending=False)\n",
    "    return summary\n",
    "\n",
    "# Summaries\n",
    "district_summary = summarize_consumption(state_cleaned, 'District')\n",
    "region_summary = summarize_consumption(state_cleaned, 'Region')\n",
    "sector_summary = summarize_consumption(state_cleaned, 'Sector')\n",
    "\n",
    "# Display summaries\n",
    "print(\"\\n🔝 Top 4 Consuming Districts:\")\n",
    "print(district_summary.head(4))\n",
    "\n",
    "print(\"\\n🧭 Region Consumption Summary:\")\n",
    "print(region_summary)\n",
    "\n",
    "print(\"\\n🏙️ Sector Consumption Summary:\")\n",
    "print(sector_summary)\n",
    "\n",
    "print(\"\\n🔻 Bottom 4 Consuming Districts:\")\n",
    "print(district_summary.tail(4))"
   ]
  },
  {
   "cell_type": "markdown",
   "id": "32dcbecd-60e7-47a1-82d1-62df2443808f",
   "metadata": {},
   "source": [
    "### 11: Rename District and Sector Codes"
   ]
  },
  {
   "cell_type": "code",
   "execution_count": 44,
   "id": "93ce54e9-5535-4641-8754-f3eba0d14613",
   "metadata": {},
   "outputs": [
    {
     "name": "stdout",
     "output_type": "stream",
     "text": [
      "\n",
      "✅ Updated District Summary (After Mapping):\n",
      "                    District  total_consumption\n",
      "18  Hyderabad and Rangareddi      141249.984966\n",
      "20                Rangareddi      114217.293471\n",
      "17                    Guntur      110004.998016\n",
      "16                  Chittoor      105600.498810\n",
      "\n",
      "🏞️ Region Summary:\n",
      "   Region  total_consumption\n",
      "2       3      503569.680033\n",
      "0       1      389429.322742\n",
      "1       2      383256.667623\n",
      "4       5      334717.668561\n",
      "3       4      333364.448016\n",
      "\n",
      "🌆 Sector Summary:\n",
      "  Sector  total_consumption\n",
      "0  RURAL       1.132863e+06\n",
      "1  URBAN       8.114752e+05\n"
     ]
    }
   ],
   "source": [
    "# Convert codes to strings\n",
    "state_cleaned['District'] = state_cleaned['District'].astype(str)\n",
    "state_cleaned['Sector'] = state_cleaned['Sector'].astype(str)\n",
    "\n",
    "# District and Sector mapping dictionaries\n",
    "district_mapping = {\n",
    "    \"23\": \"Chittoor\", \"6\": \"Rangareddi\", \"5\": \"Hyderabad and Rangareddi\",\n",
    "    \"17\": \"Guntur\", \"1\": \"Adilabad\", \"12\": \"Vizinagaram\",\n",
    "    \"11\": \"Srikakulam\", \"2\": \"Nizamabad\"\n",
    "}\n",
    "\n",
    "sector_mapping = {\"2\": \"URBAN\", \"1\": \"RURAL\"}\n",
    "\n",
    "# Apply the mapping\n",
    "state_cleaned['District'] = state_cleaned['District'].map(district_mapping).fillna(state_subset['District'])\n",
    "state_cleaned['Sector'] = state_cleaned['Sector'].map(sector_mapping).fillna(state_subset['Sector'])\n",
    "\n",
    "# Recalculate summaries after mapping\n",
    "district_summary = summarize_consumption(state_cleaned, 'District')\n",
    "region_summary = summarize_consumption(state_cleaned, 'Region')\n",
    "sector_summary = summarize_consumption(state_cleaned, 'Sector')\n",
    "\n",
    "# Display summaries again\n",
    "print(\"\\n✅ Updated District Summary (After Mapping):\")\n",
    "print(district_summary.head(4))\n",
    "print(\"\\n🏞️ Region Summary:\")\n",
    "print(region_summary)\n",
    "print(\"\\n🌆 Sector Summary:\")\n",
    "print(sector_summary)"
   ]
  },
  {
   "cell_type": "code",
   "execution_count": 51,
   "id": "853ce82f-7382-4fd7-8975-358cec3c5262",
   "metadata": {},
   "outputs": [],
   "source": [
    "first_district = district_summary.head(2).iloc[0]['District']"
   ]
  },
  {
   "cell_type": "code",
   "execution_count": 53,
   "id": "46889c99-7f49-49e5-a08e-4a2f5c5af415",
   "metadata": {},
   "outputs": [
    {
     "data": {
      "text/plain": [
       "'Nizamabad'"
      ]
     },
     "execution_count": 53,
     "metadata": {},
     "output_type": "execute_result"
    }
   ],
   "source": [
    "last_district = district_summary.tail(1).iloc[0]['District']\n",
    "last_district"
   ]
  },
  {
   "cell_type": "markdown",
   "id": "7a961d9d-6fa5-42cc-9f51-289ddf1cd2cb",
   "metadata": {},
   "source": [
    "### 12. Z-Test for Mean Difference Between Urban and Rural"
   ]
  },
  {
   "cell_type": "code",
   "execution_count": 54,
   "id": "d994a3f2-c9ca-4f5b-a0e1-ecffd6421e4b",
   "metadata": {},
   "outputs": [
    {
     "name": "stdout",
     "output_type": "stream",
     "text": [
      "📊 Z-Test for Rural vs Urban Consumption\n",
      "Z-Score: -8.295\n",
      "P-Value: 0.0\n",
      "✅ Significant difference between Rural and Urban mean consumption (Reject H₀)\n"
     ]
    }
   ],
   "source": [
    "from statsmodels.stats import weightstats as stests\n",
    "\n",
    "consumption_rural = state_cleaned[state_cleaned['Sector'] == 'RURAL']['total_consumption']\n",
    "consumption_urban = state_cleaned[state_cleaned['Sector'] == 'URBAN']['total_consumption']\n",
    "\n",
    "# Perform z-test\n",
    "z_statistic, p_value = stests.ztest(consumption_rural, consumption_urban, alternative='two-sided')\n",
    "\n",
    "# Print results\n",
    "print(\"📊 Z-Test for Rural vs Urban Consumption\")\n",
    "print(\"Z-Score:\", round(z_statistic, 4))\n",
    "print(\"P-Value:\", round(p_value, 4))\n",
    "\n",
    "# Interpret result\n",
    "if p_value < 0.05:\n",
    "    print(\"✅ Significant difference between Rural and Urban mean consumption (Reject H₀)\")\n",
    "else:\n",
    "    print(\"ℹ️ No significant difference between Rural and Urban mean consumption (Fail to reject H₀)\")"
   ]
  },
  {
   "cell_type": "markdown",
   "id": "979bab99-1683-41c8-bf9f-81062e0dbad6",
   "metadata": {},
   "source": [
    "### 13: Z-Test Between Top and Bottom Consuming Districts"
   ]
  },
  {
   "cell_type": "code",
   "execution_count": 57,
   "id": "c5e5b51f-c066-4eda-b156-45c6ae571e83",
   "metadata": {},
   "outputs": [
    {
     "name": "stdout",
     "output_type": "stream",
     "text": [
      "📊 Z-Test for Rural vs Urban Consumption\n",
      "Z-Score: -8.295\n",
      "P-Value: 0.0\n",
      "✅ Significant difference between Hyderabad and Rangareddi and Nizamabad mean consumption (Reject H₀)\n"
     ]
    }
   ],
   "source": [
    "top_distrcit = state_cleaned[state_cleaned['District'] == district_summary.head(1).iloc[0]['District']]['total_consumption']\n",
    "bottom_district = state_cleaned[state_cleaned['District'] == district_summary.tail(1).iloc[0]['District']]['total_consumption']\n",
    "\n",
    "# Perform z-test\n",
    "z_statistic, p_value = stests.ztest(consumption_rural, consumption_urban, alternative='two-sided')\n",
    "\n",
    "# Print results\n",
    "print(\"📊 Z-Test for Rural vs Urban Consumption\")\n",
    "print(\"Z-Score:\", round(z_statistic, 4))\n",
    "print(\"P-Value:\", round(p_value, 4))\n",
    "\n",
    "# Interpret result\n",
    "if p_value < 0.05:\n",
    "    print(f\"✅ Significant difference between {district_summary.head(1).iloc[0]['District']} and {district_summary.tail(1).iloc[0]['District']} mean consumption (Reject H₀)\")\n",
    "else:\n",
    "    print(f\"ℹ️ No significant difference between {district_summary.head(1).iloc[0]['District']} and {district_summary.tail(1).iloc[0]['District']} mean consumption (Fail to reject H₀)\")"
   ]
  }
 ],
 "metadata": {
  "kernelspec": {
   "display_name": "Python 3 (ipykernel)",
   "language": "python",
   "name": "python3"
  },
  "language_info": {
   "codemirror_mode": {
    "name": "ipython",
    "version": 3
   },
   "file_extension": ".py",
   "mimetype": "text/x-python",
   "name": "python",
   "nbconvert_exporter": "python",
   "pygments_lexer": "ipython3",
   "version": "3.12.7"
  },
  "varInspector": {
   "cols": {
    "lenName": 16,
    "lenType": 16,
    "lenVar": 40
   },
   "kernels_config": {
    "python": {
     "delete_cmd_postfix": "",
     "delete_cmd_prefix": "del ",
     "library": "var_list.py",
     "varRefreshCmd": "print(var_dic_list())"
    },
    "r": {
     "delete_cmd_postfix": ") ",
     "delete_cmd_prefix": "rm(",
     "library": "var_list.r",
     "varRefreshCmd": "cat(var_dic_list()) "
    }
   },
   "types_to_exclude": [
    "module",
    "function",
    "builtin_function_or_method",
    "instance",
    "_Feature"
   ],
   "window_display": false
  }
 },
 "nbformat": 4,
 "nbformat_minor": 5
}
